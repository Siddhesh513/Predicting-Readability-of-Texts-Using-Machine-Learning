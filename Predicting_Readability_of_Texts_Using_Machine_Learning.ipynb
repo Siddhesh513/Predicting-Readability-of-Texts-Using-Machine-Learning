{
  "metadata": {
    "kernelspec": {
      "display_name": "Python 3",
      "language": "python",
      "name": "python3"
    },
    "language_info": {
      "name": "python",
      "version": "3.7.8",
      "mimetype": "text/x-python",
      "codemirror_mode": {
        "name": "ipython",
        "version": 3
      },
      "pygments_lexer": "ipython3",
      "nbconvert_exporter": "python",
      "file_extension": ".py"
    },
    "colab": {
      "name": "Predicting Readability of Texts Using Machine Learning.ipynb",
      "provenance": []
    }
  },
  "nbformat_minor": 0,
  "nbformat": 4,
  "cells": [
    {
      "cell_type": "markdown",
      "source": [
        "## Predicting Readability of Texts Using Machine Learning\n",
        "### 1.1 Introduction \n",
        "There are a lot of books and magazines produced everyday that contain textual information. Sometimes, the difficulty of a text could be different based on the authors who have written it, the words used and also the sentence length and semantics. One of the challenges when reading texts from different sources is that the text might be too difficult for an average reader while it was originally intended for lecturers and scholars in a particular field. On the other hand, texts in a few sources might be too easy for some readers who expect it to have depth in its content. Therefore, different source of articles have different levels of difficulty in them. \n",
        "\n",
        "In this machine learning project, we are going to be predicting the difficulty of texts based on some important features. Since we only have textual information, we are going to need to create new features and also tokenize sentences into different words to understand some useful features. \n",
        "\n",
        "In addition to this, we would also find correlation between different features that we have created and see how much of an impact they make when we are performing the machine learning analysis and predictions.\n",
        "\n",
        "### 1.2 Metrics\n",
        "1. Mean Squared Error \n",
        "2. Mean Absolute Error\n",
        "\n",
        "### 1.3 Source \n",
        "The data that is used is from Kaggle. There are many data sets available that could be used for machine learning purposes. Below is the link. \n",
        "\n",
        "https://www.kaggle.com/c/commonlitreadabilityprize/data\n",
        "\n",
        "## Table of Contents\n",
        "### Predicting Readability of Texts Using Machine Learning\n",
        "\n",
        "1.1 Introduction\n",
        "\n",
        "1.2 Metrics\n",
        "\n",
        "1.3 Source \n",
        "\n",
        "### 2. Exploratory Data Analysis \n",
        "\n",
        "2.1 Reading the Head of Training Data\n",
        "\n",
        "2.2 Using Missing to plot the missing null values\n",
        "\n",
        "2.3 Creating Useful Functions\n",
        "\n",
        "2.4 Histogram of Target Variable\n",
        "\n",
        "2.5 Histogram of Standard_Error Values\n",
        "\n",
        "2.6 WordCloud function\n",
        "\n",
        "2.7 Creating preprocessing function \n",
        "\n",
        "### 3. Creating New Features\n",
        "\n",
        "3.1 Defining get_useful_features function \n",
        "\n",
        "3.2 Pairplot of Different Features\n",
        "\n",
        "3.3 Heatmap of Correlation Matrix\n",
        "\n",
        "3.4 Scatterplot function \n",
        "\n",
        "3.5 Scatterplot between num_of_sentences and target\n",
        "\n",
        "3.6 Scatterplot between preprocessed_essay_length and num_of_lemmas\n",
        "\n",
        "3.7 Creating new function that generates more features\n",
        "\n",
        "3.8 Pairplot of Other Features\n",
        "\n",
        "3.9 Heatmap between num_of_quotes and num_of_questions\n",
        "\n",
        "### 4. Creating New Functions \n",
        "\n",
        "4.1 Creating Decontracted function \n",
        "\n",
        "4.2 Creating preprocessing_function \n",
        "\n",
        "4.3 Concatenating the dataframes\n",
        "\n",
        "4.4 Creating min_max_scaler function \n",
        "\n",
        "4.5 Creating Tfidf_Vectorizer function \n",
        "\n",
        "4.6 Creating Count_Vectorizer function \n",
        "\n",
        "4.7 Creating Vectorizer_decision function \n",
        "\n",
        "4.8 Splitting the data into training and cross-validation data \n",
        "\n",
        "### 5. Machine Learning Models\n",
        "\n",
        "5.1 Neural Network Model \n",
        "\n",
        "5.2 Tfidf Vectorizer\n",
        "\n",
        "5.3 Creating actual_vs_predictions_dataframe\n",
        "\n",
        "5.4 Creating regression_plot_function \n",
        "\n",
        "5.5 Linear Regression Machine Learning Model \n",
        "\n",
        "5.6 K - Neighbors Regressor \n",
        "\n",
        "5.6.1 Regression Plot between Predicted Values and the Actual Values\n",
        "\n",
        "5.7 PLS Regression \n",
        "\n",
        "5.7.1 Regression Plot between Predicted Values and the Actual Values \n",
        "\n",
        "5.8 Decision Tree Regressor \n",
        "\n",
        "5.8.1 Regression plot between the Predicted Values and the Actual Values\n",
        "\n",
        "5.9 Gradient Boosting Regressor \n",
        "\n",
        "5.9.1 Regression plot between the Predicted Values and the Actual Values \n",
        "\n",
        "### 6. Using Word2Vec\n",
        "\n",
        "6.1 Importing Glove Vectors \n",
        "\n",
        "6.2 Neural Network with Word2Vec\n",
        "\n",
        "6.3 Defining the lineplot_neural_network function \n",
        "\n",
        "6.4 Gradient Boosting Decision Tree for Average Word2Vec\n",
        "\n",
        "6.5 Tfidf Word2Vec Featurization \n",
        "\n",
        "6.6 Neural Network with Tfidf Word2Vec\n",
        "\n",
        "6.7 Regression plot between the Predicted Values and the Actual Values \n",
        "\n",
        "### 7. Conclusion \n",
        "_________________________________________________________________________________________________________________\n",
        "## Importing the Libraries \n",
        "\n"
      ],
      "metadata": {
        "id": "kIfyulGZEJ_P"
      }
    },
    {
      "cell_type": "code",
      "source": [
        "import numpy as np                       ##Used for numerical computations \n",
        "import pandas as pd                      ##Used for reading the data\n",
        "import seaborn as sns                    #Used for plotting with more features\n",
        "import matplotlib.pyplot as plt          #Used for plotting \n",
        "from nltk.corpus import stopwords        ##This is used to plot the number of stopwords \n",
        "from nltk.tokenize import word_tokenize, sent_tokenize        ##This is used to divide the overall text data to tokens and sentences\n",
        "from sklearn.feature_extraction.text import CountVectorizer, TfidfVectorizer   ##Using the vectorizer to convert values\n",
        "import tqdm                        ##Used for measuring the time it takes to get the things done \n",
        "import re                           ##Standard library for reading and substituting the word expressions \n",
        "from sklearn.model_selection import train_test_split\n",
        "from sklearn.metrics import mean_squared_error, mean_absolute_error\n",
        "from tqdm import tqdm\n",
        "import nltk                                ##Used for the natural language processing tasks \n",
        "#import nltk\n",
        "nltk.download('punkt')\n",
        "import missingno as msno                      ## Used to plot the missing values that are present in our data\n",
        "from wordcloud import WordCloud               ##It is used to plot the frequency of the words which determines their size\n",
        "try:\n",
        "    import plotly.express as px               ##This library is used for interactive visualization \n",
        "    from plotly import graph_objects as go    ##We also have to use this along with plotly to get interactive visualization\n",
        "except:\n",
        "    !pip install plotly\n",
        "import warnings                       ##We are going to filer some warnings and remove them when we try to import the libraries\n",
        "warnings.filterwarnings(\"ignore\")"
      ],
      "metadata": {
        "_cell_guid": "b1076dfc-b9ad-4769-8c92-a6c4dae69d19",
        "_uuid": "8f2839f25d086af736a60e9eeb907d3b93b6e0e5",
        "execution": {
          "iopub.execute_input": "2021-07-24T21:22:16.909368Z",
          "iopub.status.busy": "2021-07-24T21:22:16.908887Z",
          "iopub.status.idle": "2021-07-24T21:22:16.913150Z",
          "shell.execute_reply": "2021-07-24T21:22:16.912459Z",
          "shell.execute_reply.started": "2021-07-24T21:22:16.909332Z"
        },
        "colab": {
          "base_uri": "https://localhost:8080/"
        },
        "id": "iO0p8RqsEJ_S",
        "outputId": "6b1e0671-1127-4086-b35e-8335bbf1e54c"
      },
      "execution_count": null,
      "outputs": [
        {
          "output_type": "stream",
          "name": "stdout",
          "text": [
            "[nltk_data] Downloading package punkt to /root/nltk_data...\n",
            "[nltk_data]   Unzipping tokenizers/punkt.zip.\n"
          ]
        }
      ]
    },
    {
      "cell_type": "code",
      "source": [
        "from google.colab import drive\n",
        "drive.mount('/content/drive')"
      ],
      "metadata": {
        "execution": {
          "iopub.execute_input": "2021-07-24T21:22:17.011518Z",
          "iopub.status.busy": "2021-07-24T21:22:17.010996Z",
          "iopub.status.idle": "2021-07-24T21:22:17.019512Z",
          "shell.execute_reply": "2021-07-24T21:22:17.018541Z",
          "shell.execute_reply.started": "2021-07-24T21:22:17.011484Z"
        },
        "colab": {
          "base_uri": "https://localhost:8080/"
        },
        "id": "2mTnN3J4EJ_V",
        "outputId": "f66d7d5f-36bd-45a1-89b5-39f69d397fff"
      },
      "execution_count": null,
      "outputs": [
        {
          "output_type": "stream",
          "name": "stdout",
          "text": [
            "Drive already mounted at /content/drive; to attempt to forcibly remount, call drive.mount(\"/content/drive\", force_remount=True).\n"
          ]
        }
      ]
    },
    {
      "cell_type": "markdown",
      "source": [
        "Now is the time to store the .csv files in different variables so that we later can use them for the machine learning analysis and predictions. "
      ],
      "metadata": {
        "id": "-WbQTMYoEJ_W"
      }
    },
    {
      "cell_type": "code",
      "source": [
        "##Reading the training data, testing data and sample values that we are going to be understanding and using in the long term.\n",
        "df_train = pd.read_csv(\"/content/train.csv\", low_memory = False)\n",
        "df_test = pd.read_csv(\"/content/test.csv\", low_memory = False)\n",
        "df_sample = pd.read_csv(\"/content/sample_submission.csv\", low_memory = False)"
      ],
      "metadata": {
        "id": "L6Q1QamVElgp"
      },
      "execution_count": null,
      "outputs": []
    },
    {
      "cell_type": "markdown",
      "source": [
        "It is always a good idea to check the memory usage so that there won't be any issues when performing operations that require more RAM. Sometimes when we don't check the usage, there might be a case where the amount of RAM that is being consumed for the machine learning operations far exceeds the capacity of our RAM, leading to errors in the code. Therefore, it would be good to understand the total amount of RAM that is being used respectively. "
      ],
      "metadata": {
        "id": "Ya1hpNB7EJ_X"
      }
    },
    {
      "cell_type": "code",
      "source": [
        "##info is used to check the total number of null values and also the feature types respectively\n",
        "df_train.info(memory_usage = 'deep')"
      ],
      "metadata": {
        "colab": {
          "base_uri": "https://localhost:8080/"
        },
        "id": "uQfleQ2xEJ_Y",
        "outputId": "d272415e-7dda-4edd-f933-dbee0d0bfbb0"
      },
      "execution_count": null,
      "outputs": [
        {
          "output_type": "stream",
          "name": "stdout",
          "text": [
            "<class 'pandas.core.frame.DataFrame'>\n",
            "RangeIndex: 2834 entries, 0 to 2833\n",
            "Data columns (total 6 columns):\n",
            " #   Column          Non-Null Count  Dtype  \n",
            "---  ------          --------------  -----  \n",
            " 0   id              2834 non-null   object \n",
            " 1   url_legal       830 non-null    object \n",
            " 2   license         830 non-null    object \n",
            " 3   excerpt         2834 non-null   object \n",
            " 4   target          2834 non-null   float64\n",
            " 5   standard_error  2834 non-null   float64\n",
            "dtypes: float64(2), object(4)\n",
            "memory usage: 3.8 MB\n"
          ]
        }
      ]
    },
    {
      "cell_type": "markdown",
      "source": [
        "Let us now perform the same operation for the test set to understand the data and also see the different columns where there are NULL values present. "
      ],
      "metadata": {
        "id": "WyYGCV55EJ_Z"
      }
    },
    {
      "cell_type": "code",
      "source": [
        "df_test.info(memory_usage = 'deep')"
      ],
      "metadata": {
        "colab": {
          "base_uri": "https://localhost:8080/"
        },
        "id": "aizjNBuAEJ_Z",
        "outputId": "0ffc11c5-90b2-42a1-c88c-9a16cb0db88b"
      },
      "execution_count": null,
      "outputs": [
        {
          "output_type": "stream",
          "name": "stdout",
          "text": [
            "<class 'pandas.core.frame.DataFrame'>\n",
            "RangeIndex: 7 entries, 0 to 6\n",
            "Data columns (total 4 columns):\n",
            " #   Column     Non-Null Count  Dtype \n",
            "---  ------     --------------  ----- \n",
            " 0   id         7 non-null      object\n",
            " 1   url_legal  3 non-null      object\n",
            " 2   license    3 non-null      object\n",
            " 3   excerpt    7 non-null      object\n",
            "dtypes: object(4)\n",
            "memory usage: 8.2 KB\n"
          ]
        }
      ]
    },
    {
      "cell_type": "markdown",
      "source": [
        "Performing the same operation for the sample dataframe to see the type of columns that we must include when doing the submission. "
      ],
      "metadata": {
        "id": "20C4omkxEJ_Z"
      }
    },
    {
      "cell_type": "code",
      "source": [
        "df_sample.info(memory_usage = 'deep')"
      ],
      "metadata": {
        "colab": {
          "base_uri": "https://localhost:8080/"
        },
        "id": "eafy5e_NEJ_a",
        "outputId": "ead6427d-251e-484a-b22d-df8f02f69e27"
      },
      "execution_count": null,
      "outputs": [
        {
          "output_type": "stream",
          "name": "stdout",
          "text": [
            "<class 'pandas.core.frame.DataFrame'>\n",
            "RangeIndex: 7 entries, 0 to 6\n",
            "Data columns (total 2 columns):\n",
            " #   Column  Non-Null Count  Dtype  \n",
            "---  ------  --------------  -----  \n",
            " 0   id      7 non-null      object \n",
            " 1   target  7 non-null      float64\n",
            "dtypes: float64(1), object(1)\n",
            "memory usage: 646.0 bytes\n"
          ]
        }
      ]
    },
    {
      "cell_type": "markdown",
      "source": [
        "## 2.1 Reading the Head of Training Data\n",
        "\n",
        "Now, we see from the below that there are some columns that contain NULL values such as \"url_legal\" and \"license\" columns respectively. One observation from the table below is that there is only a text that we are given along with the \"target\" which is what we are going to predict for the future text along with \"standard_error\" respectively. \n",
        "\n",
        "Since there are not many features rather than just the text given, we have to be creating new features that helps us to get the best predictions in the test set. Therefore, we have to featurize based on the text and create now columns and append in our existing dataset which ensures that we get a model that has a good accuracy and low mean square error. "
      ],
      "metadata": {
        "id": "UboPRhdQEJ_a"
      }
    },
    {
      "cell_type": "code",
      "source": [
        "##Reading the head of the dataframe that we are working on. \n",
        "df_train.head()"
      ],
      "metadata": {
        "execution": {
          "iopub.execute_input": "2021-07-24T21:22:42.921087Z",
          "iopub.status.busy": "2021-07-24T21:22:42.920709Z",
          "iopub.status.idle": "2021-07-24T21:22:42.949195Z",
          "shell.execute_reply": "2021-07-24T21:22:42.947799Z",
          "shell.execute_reply.started": "2021-07-24T21:22:42.921054Z"
        },
        "colab": {
          "base_uri": "https://localhost:8080/",
          "height": 206
        },
        "id": "nF5nxkr9EJ_a",
        "outputId": "c3c4cd05-6e59-417c-ef9b-ffc14892b609"
      },
      "execution_count": null,
      "outputs": [
        {
          "output_type": "execute_result",
          "data": {
            "text/plain": [
              "          id url_legal license  \\\n",
              "0  c12129c31       NaN     NaN   \n",
              "1  85aa80a4c       NaN     NaN   \n",
              "2  b69ac6792       NaN     NaN   \n",
              "3  dd1000b26       NaN     NaN   \n",
              "4  37c1b32fb       NaN     NaN   \n",
              "\n",
              "                                             excerpt    target  standard_error  \n",
              "0  When the young people returned to the ballroom... -0.340259        0.464009  \n",
              "1  All through dinner time, Mrs. Fayre was somewh... -0.315372        0.480805  \n",
              "2  As Roger had predicted, the snow departed as q... -0.580118        0.476676  \n",
              "3  And outside before the palace a great garden w... -1.054013        0.450007  \n",
              "4  Once upon a time there were Three Bears who li...  0.247197        0.510845  "
            ],
            "text/html": [
              "\n",
              "  <div id=\"df-ecf7955a-02fe-4b1f-a033-5614e382c673\">\n",
              "    <div class=\"colab-df-container\">\n",
              "      <div>\n",
              "<style scoped>\n",
              "    .dataframe tbody tr th:only-of-type {\n",
              "        vertical-align: middle;\n",
              "    }\n",
              "\n",
              "    .dataframe tbody tr th {\n",
              "        vertical-align: top;\n",
              "    }\n",
              "\n",
              "    .dataframe thead th {\n",
              "        text-align: right;\n",
              "    }\n",
              "</style>\n",
              "<table border=\"1\" class=\"dataframe\">\n",
              "  <thead>\n",
              "    <tr style=\"text-align: right;\">\n",
              "      <th></th>\n",
              "      <th>id</th>\n",
              "      <th>url_legal</th>\n",
              "      <th>license</th>\n",
              "      <th>excerpt</th>\n",
              "      <th>target</th>\n",
              "      <th>standard_error</th>\n",
              "    </tr>\n",
              "  </thead>\n",
              "  <tbody>\n",
              "    <tr>\n",
              "      <th>0</th>\n",
              "      <td>c12129c31</td>\n",
              "      <td>NaN</td>\n",
              "      <td>NaN</td>\n",
              "      <td>When the young people returned to the ballroom...</td>\n",
              "      <td>-0.340259</td>\n",
              "      <td>0.464009</td>\n",
              "    </tr>\n",
              "    <tr>\n",
              "      <th>1</th>\n",
              "      <td>85aa80a4c</td>\n",
              "      <td>NaN</td>\n",
              "      <td>NaN</td>\n",
              "      <td>All through dinner time, Mrs. Fayre was somewh...</td>\n",
              "      <td>-0.315372</td>\n",
              "      <td>0.480805</td>\n",
              "    </tr>\n",
              "    <tr>\n",
              "      <th>2</th>\n",
              "      <td>b69ac6792</td>\n",
              "      <td>NaN</td>\n",
              "      <td>NaN</td>\n",
              "      <td>As Roger had predicted, the snow departed as q...</td>\n",
              "      <td>-0.580118</td>\n",
              "      <td>0.476676</td>\n",
              "    </tr>\n",
              "    <tr>\n",
              "      <th>3</th>\n",
              "      <td>dd1000b26</td>\n",
              "      <td>NaN</td>\n",
              "      <td>NaN</td>\n",
              "      <td>And outside before the palace a great garden w...</td>\n",
              "      <td>-1.054013</td>\n",
              "      <td>0.450007</td>\n",
              "    </tr>\n",
              "    <tr>\n",
              "      <th>4</th>\n",
              "      <td>37c1b32fb</td>\n",
              "      <td>NaN</td>\n",
              "      <td>NaN</td>\n",
              "      <td>Once upon a time there were Three Bears who li...</td>\n",
              "      <td>0.247197</td>\n",
              "      <td>0.510845</td>\n",
              "    </tr>\n",
              "  </tbody>\n",
              "</table>\n",
              "</div>\n",
              "      <button class=\"colab-df-convert\" onclick=\"convertToInteractive('df-ecf7955a-02fe-4b1f-a033-5614e382c673')\"\n",
              "              title=\"Convert this dataframe to an interactive table.\"\n",
              "              style=\"display:none;\">\n",
              "        \n",
              "  <svg xmlns=\"http://www.w3.org/2000/svg\" height=\"24px\"viewBox=\"0 0 24 24\"\n",
              "       width=\"24px\">\n",
              "    <path d=\"M0 0h24v24H0V0z\" fill=\"none\"/>\n",
              "    <path d=\"M18.56 5.44l.94 2.06.94-2.06 2.06-.94-2.06-.94-.94-2.06-.94 2.06-2.06.94zm-11 1L8.5 8.5l.94-2.06 2.06-.94-2.06-.94L8.5 2.5l-.94 2.06-2.06.94zm10 10l.94 2.06.94-2.06 2.06-.94-2.06-.94-.94-2.06-.94 2.06-2.06.94z\"/><path d=\"M17.41 7.96l-1.37-1.37c-.4-.4-.92-.59-1.43-.59-.52 0-1.04.2-1.43.59L10.3 9.45l-7.72 7.72c-.78.78-.78 2.05 0 2.83L4 21.41c.39.39.9.59 1.41.59.51 0 1.02-.2 1.41-.59l7.78-7.78 2.81-2.81c.8-.78.8-2.07 0-2.86zM5.41 20L4 18.59l7.72-7.72 1.47 1.35L5.41 20z\"/>\n",
              "  </svg>\n",
              "      </button>\n",
              "      \n",
              "  <style>\n",
              "    .colab-df-container {\n",
              "      display:flex;\n",
              "      flex-wrap:wrap;\n",
              "      gap: 12px;\n",
              "    }\n",
              "\n",
              "    .colab-df-convert {\n",
              "      background-color: #E8F0FE;\n",
              "      border: none;\n",
              "      border-radius: 50%;\n",
              "      cursor: pointer;\n",
              "      display: none;\n",
              "      fill: #1967D2;\n",
              "      height: 32px;\n",
              "      padding: 0 0 0 0;\n",
              "      width: 32px;\n",
              "    }\n",
              "\n",
              "    .colab-df-convert:hover {\n",
              "      background-color: #E2EBFA;\n",
              "      box-shadow: 0px 1px 2px rgba(60, 64, 67, 0.3), 0px 1px 3px 1px rgba(60, 64, 67, 0.15);\n",
              "      fill: #174EA6;\n",
              "    }\n",
              "\n",
              "    [theme=dark] .colab-df-convert {\n",
              "      background-color: #3B4455;\n",
              "      fill: #D2E3FC;\n",
              "    }\n",
              "\n",
              "    [theme=dark] .colab-df-convert:hover {\n",
              "      background-color: #434B5C;\n",
              "      box-shadow: 0px 1px 3px 1px rgba(0, 0, 0, 0.15);\n",
              "      filter: drop-shadow(0px 1px 2px rgba(0, 0, 0, 0.3));\n",
              "      fill: #FFFFFF;\n",
              "    }\n",
              "  </style>\n",
              "\n",
              "      <script>\n",
              "        const buttonEl =\n",
              "          document.querySelector('#df-ecf7955a-02fe-4b1f-a033-5614e382c673 button.colab-df-convert');\n",
              "        buttonEl.style.display =\n",
              "          google.colab.kernel.accessAllowed ? 'block' : 'none';\n",
              "\n",
              "        async function convertToInteractive(key) {\n",
              "          const element = document.querySelector('#df-ecf7955a-02fe-4b1f-a033-5614e382c673');\n",
              "          const dataTable =\n",
              "            await google.colab.kernel.invokeFunction('convertToInteractive',\n",
              "                                                     [key], {});\n",
              "          if (!dataTable) return;\n",
              "\n",
              "          const docLinkHtml = 'Like what you see? Visit the ' +\n",
              "            '<a target=\"_blank\" href=https://colab.research.google.com/notebooks/data_table.ipynb>data table notebook</a>'\n",
              "            + ' to learn more about interactive tables.';\n",
              "          element.innerHTML = '';\n",
              "          dataTable['output_type'] = 'display_data';\n",
              "          await google.colab.output.renderOutput(dataTable, element);\n",
              "          const docLink = document.createElement('div');\n",
              "          docLink.innerHTML = docLinkHtml;\n",
              "          element.appendChild(docLink);\n",
              "        }\n",
              "      </script>\n",
              "    </div>\n",
              "  </div>\n",
              "  "
            ]
          },
          "metadata": {},
          "execution_count": 11
        }
      ]
    },
    {
      "cell_type": "markdown",
      "source": [
        "Taking a look at the sample data where we must be giving the specific ID along with the predictions of our machine learning and deep learning algorithms and submit it. "
      ],
      "metadata": {
        "id": "oCY_mhOFEJ_b"
      }
    },
    {
      "cell_type": "code",
      "source": [
        "df_sample.head()"
      ],
      "metadata": {
        "execution": {
          "iopub.execute_input": "2021-07-23T23:33:11.778572Z",
          "iopub.status.busy": "2021-07-23T23:33:11.778241Z",
          "iopub.status.idle": "2021-07-23T23:33:11.790072Z",
          "shell.execute_reply": "2021-07-23T23:33:11.788929Z",
          "shell.execute_reply.started": "2021-07-23T23:33:11.778543Z"
        },
        "colab": {
          "base_uri": "https://localhost:8080/",
          "height": 206
        },
        "id": "1pL0BtcXEJ_b",
        "outputId": "80e59968-05c0-44aa-9e82-bec6361f0271"
      },
      "execution_count": null,
      "outputs": [
        {
          "output_type": "execute_result",
          "data": {
            "text/plain": [
              "          id  target\n",
              "0  c0f722661     0.0\n",
              "1  f0953f0a5     0.0\n",
              "2  0df072751     0.0\n",
              "3  04caf4e0c     0.0\n",
              "4  0e63f8bea     0.0"
            ],
            "text/html": [
              "\n",
              "  <div id=\"df-da162a7e-11e7-4af0-a578-6e15ddec91e8\">\n",
              "    <div class=\"colab-df-container\">\n",
              "      <div>\n",
              "<style scoped>\n",
              "    .dataframe tbody tr th:only-of-type {\n",
              "        vertical-align: middle;\n",
              "    }\n",
              "\n",
              "    .dataframe tbody tr th {\n",
              "        vertical-align: top;\n",
              "    }\n",
              "\n",
              "    .dataframe thead th {\n",
              "        text-align: right;\n",
              "    }\n",
              "</style>\n",
              "<table border=\"1\" class=\"dataframe\">\n",
              "  <thead>\n",
              "    <tr style=\"text-align: right;\">\n",
              "      <th></th>\n",
              "      <th>id</th>\n",
              "      <th>target</th>\n",
              "    </tr>\n",
              "  </thead>\n",
              "  <tbody>\n",
              "    <tr>\n",
              "      <th>0</th>\n",
              "      <td>c0f722661</td>\n",
              "      <td>0.0</td>\n",
              "    </tr>\n",
              "    <tr>\n",
              "      <th>1</th>\n",
              "      <td>f0953f0a5</td>\n",
              "      <td>0.0</td>\n",
              "    </tr>\n",
              "    <tr>\n",
              "      <th>2</th>\n",
              "      <td>0df072751</td>\n",
              "      <td>0.0</td>\n",
              "    </tr>\n",
              "    <tr>\n",
              "      <th>3</th>\n",
              "      <td>04caf4e0c</td>\n",
              "      <td>0.0</td>\n",
              "    </tr>\n",
              "    <tr>\n",
              "      <th>4</th>\n",
              "      <td>0e63f8bea</td>\n",
              "      <td>0.0</td>\n",
              "    </tr>\n",
              "  </tbody>\n",
              "</table>\n",
              "</div>\n",
              "      <button class=\"colab-df-convert\" onclick=\"convertToInteractive('df-da162a7e-11e7-4af0-a578-6e15ddec91e8')\"\n",
              "              title=\"Convert this dataframe to an interactive table.\"\n",
              "              style=\"display:none;\">\n",
              "        \n",
              "  <svg xmlns=\"http://www.w3.org/2000/svg\" height=\"24px\"viewBox=\"0 0 24 24\"\n",
              "       width=\"24px\">\n",
              "    <path d=\"M0 0h24v24H0V0z\" fill=\"none\"/>\n",
              "    <path d=\"M18.56 5.44l.94 2.06.94-2.06 2.06-.94-2.06-.94-.94-2.06-.94 2.06-2.06.94zm-11 1L8.5 8.5l.94-2.06 2.06-.94-2.06-.94L8.5 2.5l-.94 2.06-2.06.94zm10 10l.94 2.06.94-2.06 2.06-.94-2.06-.94-.94-2.06-.94 2.06-2.06.94z\"/><path d=\"M17.41 7.96l-1.37-1.37c-.4-.4-.92-.59-1.43-.59-.52 0-1.04.2-1.43.59L10.3 9.45l-7.72 7.72c-.78.78-.78 2.05 0 2.83L4 21.41c.39.39.9.59 1.41.59.51 0 1.02-.2 1.41-.59l7.78-7.78 2.81-2.81c.8-.78.8-2.07 0-2.86zM5.41 20L4 18.59l7.72-7.72 1.47 1.35L5.41 20z\"/>\n",
              "  </svg>\n",
              "      </button>\n",
              "      \n",
              "  <style>\n",
              "    .colab-df-container {\n",
              "      display:flex;\n",
              "      flex-wrap:wrap;\n",
              "      gap: 12px;\n",
              "    }\n",
              "\n",
              "    .colab-df-convert {\n",
              "      background-color: #E8F0FE;\n",
              "      border: none;\n",
              "      border-radius: 50%;\n",
              "      cursor: pointer;\n",
              "      display: none;\n",
              "      fill: #1967D2;\n",
              "      height: 32px;\n",
              "      padding: 0 0 0 0;\n",
              "      width: 32px;\n",
              "    }\n",
              "\n",
              "    .colab-df-convert:hover {\n",
              "      background-color: #E2EBFA;\n",
              "      box-shadow: 0px 1px 2px rgba(60, 64, 67, 0.3), 0px 1px 3px 1px rgba(60, 64, 67, 0.15);\n",
              "      fill: #174EA6;\n",
              "    }\n",
              "\n",
              "    [theme=dark] .colab-df-convert {\n",
              "      background-color: #3B4455;\n",
              "      fill: #D2E3FC;\n",
              "    }\n",
              "\n",
              "    [theme=dark] .colab-df-convert:hover {\n",
              "      background-color: #434B5C;\n",
              "      box-shadow: 0px 1px 3px 1px rgba(0, 0, 0, 0.15);\n",
              "      filter: drop-shadow(0px 1px 2px rgba(0, 0, 0, 0.3));\n",
              "      fill: #FFFFFF;\n",
              "    }\n",
              "  </style>\n",
              "\n",
              "      <script>\n",
              "        const buttonEl =\n",
              "          document.querySelector('#df-da162a7e-11e7-4af0-a578-6e15ddec91e8 button.colab-df-convert');\n",
              "        buttonEl.style.display =\n",
              "          google.colab.kernel.accessAllowed ? 'block' : 'none';\n",
              "\n",
              "        async function convertToInteractive(key) {\n",
              "          const element = document.querySelector('#df-da162a7e-11e7-4af0-a578-6e15ddec91e8');\n",
              "          const dataTable =\n",
              "            await google.colab.kernel.invokeFunction('convertToInteractive',\n",
              "                                                     [key], {});\n",
              "          if (!dataTable) return;\n",
              "\n",
              "          const docLinkHtml = 'Like what you see? Visit the ' +\n",
              "            '<a target=\"_blank\" href=https://colab.research.google.com/notebooks/data_table.ipynb>data table notebook</a>'\n",
              "            + ' to learn more about interactive tables.';\n",
              "          element.innerHTML = '';\n",
              "          dataTable['output_type'] = 'display_data';\n",
              "          await google.colab.output.renderOutput(dataTable, element);\n",
              "          const docLink = document.createElement('div');\n",
              "          docLink.innerHTML = docLinkHtml;\n",
              "          element.appendChild(docLink);\n",
              "        }\n",
              "      </script>\n",
              "    </div>\n",
              "  </div>\n",
              "  "
            ]
          },
          "metadata": {},
          "execution_count": 12
        }
      ]
    },
    {
      "cell_type": "markdown",
      "source": [
        "## 2.2 Using Missingno to plot the missing null values\n",
        "It would be a good idea to understand the missing values that are present in our data with the help of a figure. Below, we are going to be using the missingno library which gives us the missing values that are present based on different columns respectively. We see that there are a few missing values that are present in the columns \"url_legal\" and \"license\" respectively as marked below. \n",
        "\n",
        "In addition, we can also find that there are no missing values present for \"excerpt\", \"target\" and \"standard_error\" respectively. "
      ],
      "metadata": {
        "id": "YBhv88IYEJ_b"
      }
    },
    {
      "cell_type": "code",
      "source": [
        "##Using the missingno library that is used to get the list of missing values through a figure. \n",
        "msno.matrix(df_train, color = (0.01, 0.75, 0.75))"
      ],
      "metadata": {
        "execution": {
          "iopub.execute_input": "2021-07-24T21:25:57.680892Z",
          "iopub.status.busy": "2021-07-24T21:25:57.680417Z",
          "iopub.status.idle": "2021-07-24T21:25:58.115142Z",
          "shell.execute_reply": "2021-07-24T21:25:58.114348Z",
          "shell.execute_reply.started": "2021-07-24T21:25:57.680860Z"
        },
        "scrolled": true,
        "colab": {
          "base_uri": "https://localhost:8080/"
        },
        "id": "KXkocThBEJ_c",
        "outputId": "c2660eba-a8ff-4d8c-b7f1-a3b43c2ad5a4"
      },
      "execution_count": null,
      "outputs": [
        {
          "output_type": "execute_result",
          "data": {
            "text/plain": [
              "<matplotlib.axes._subplots.AxesSubplot at 0x7f86957150d0>"
            ]
          },
          "metadata": {},
          "execution_count": 13
        },
        {
          "output_type": "display_data",
          "data": {
            "text/plain": [
              "<Figure size 1800x720 with 2 Axes>"
            ],
            "image/png": "[encoded data removed]"
          },
          "metadata": {
            "needs_background": "light"
          }
        }
      ]
    },
    {
      "cell_type": "markdown",
      "source": [
        "## 2.3 Creating Useful Functions\n",
        "It would be a good idea to create functions and add some of the arguments so that we don't have to repeat the code again. In addition, we can just change the arguments and it would be applied entirely to the block that of code that is present in the function. Therefore, it would be really convenient to create functions along with useful arguments that we might change when we are implemented them in the future of our code. \n",
        "\n",
        "Below, we have defined a function called \"plot_histogram\" where it takes in the dataframe along with the column that we are interested and a few other arguments and plot a histogram of our configuration. "
      ],
      "metadata": {
        "id": "HI842I18EJ_c"
      }
    },
    {
      "cell_type": "code",
      "source": [
        "def plot_histogram(dataframe: pd.DataFrame, column: str, x_title = None, y_title = None, edge_color = 'black', \n",
        "                   color = 'Green', total_bins = 20, font_size = 10):\n",
        "    \"\"\"\n",
        "    In this function, we are going to plot a histogram for the dataframe that is given\n",
        "    along with some modifications and different features of histogram plot\n",
        "    \"\"\"\n",
        "    \n",
        "    fig, ax = plt.subplots(figsize = (10, 5))    ##This is used to create many plots depending on which we choose to use respectively.\n",
        "    ax.hist(dataframe[column], bins = total_bins, edgecolor = edge_color, color = color)\n",
        "    ax.set_title(f'Histogram Distribution of {column} values', fontsize = font_size + 5)\n",
        "    ax.set_xlabel(column, fontsize = font_size)\n",
        "    ax.set_ylabel(\"Total Number of Observations\", fontsize = font_size)\n",
        "    plt.show()"
      ],
      "metadata": {
        "id": "T5IjlpGlEJ_c"
      },
      "execution_count": null,
      "outputs": []
    },
    {
      "cell_type": "markdown",
      "source": [
        "## 2.4 Histogram of Target Variable\n",
        "Since most of the parameters are set to default values, those values are taken into consideration when plotting the histogram plots respectively. Since we want to look at the column called 'target' in our data and it's distribution, we are using that column and giving it to the function so that it plots respectively. \n",
        "\n",
        "We see that the output is evenly distributed with the mean around -1. In addition, we find that there are very few values that are present that are greater than 1 or less than -3 as can be seen from the below plot. "
      ],
      "metadata": {
        "id": "YO7cWLdxEJ_d"
      }
    },
    {
      "cell_type": "code",
      "source": [
        "##Plotted the histogram of the variable that we are going to be predicting respectively. \n",
        "plot_histogram(df_train, column = 'target')"
      ],
      "metadata": {
        "colab": {
          "base_uri": "https://localhost:8080/"
        },
        "id": "Op35r3UlEJ_d",
        "outputId": "03bede65-f7cc-4256-93ca-ac87fb425432",
        "cellView": "code"
      },
      "execution_count": null,
      "outputs": [
        {
          "output_type": "display_data",
          "data": {
            "text/plain": [
              "<Figure size 720x360 with 1 Axes>"
            ],
            "image/png": "[encoded data removed]"
          },
          "metadata": {
            "needs_background": "light"
          }
        }
      ]
    },
    {
      "cell_type": "markdown",
      "source": [
        "## 2.5 Histogram of Standard_Error Values\n",
        "In the same light, let us now look at the standard error distribution by using the function that we have created to plot the histogram. Now we have changed the color to see the changes and how they would be applied to the block of functions. \n",
        "\n",
        "There are a lot of values that are present around 0.5 than the other regions. We understand that there are very few values where the standard error is 0.6 or more. In addition, there are very few values where the standard error is below 0.4 respectively.  "
      ],
      "metadata": {
        "id": "XLI0tfXvEJ_d"
      }
    },
    {
      "cell_type": "code",
      "source": [
        "#Using the histogram values and we are going to plot the standard error in orange as can be seen below\n",
        "plot_histogram(df_train, column = 'standard_error', color = 'orange')"
      ],
      "metadata": {
        "colab": {
          "base_uri": "https://localhost:8080/"
        },
        "id": "TIj7oCu4EJ_e",
        "outputId": "83d26b81-f206-4f10-8e4c-7975f5749a8f"
      },
      "execution_count": null,
      "outputs": [
        {
          "output_type": "display_data",
          "data": {
            "text/plain": [
              "<Figure size 720x360 with 1 Axes>"
            ],
            "image/png": "[encoded data removed]"
          },
          "metadata": {
            "needs_background": "light"
          }
        }
      ]
    },
    {
      "cell_type": "code",
      "source": [
        "##Reading the text that we want to see and looking at how the sentences are framed.\n",
        "df_train['excerpt'].iloc[1]"
      ],
      "metadata": {
        "execution": {
          "iopub.execute_input": "2021-07-24T21:23:56.229878Z",
          "iopub.status.busy": "2021-07-24T21:23:56.229433Z",
          "iopub.status.idle": "2021-07-24T21:23:56.235275Z",
          "shell.execute_reply": "2021-07-24T21:23:56.234620Z",
          "shell.execute_reply.started": "2021-07-24T21:23:56.229850Z"
        },
        "colab": {
          "base_uri": "https://localhost:8080/"
        },
        "id": "Yqe79lJnEJ_e",
        "outputId": "448e2d54-a435-47ca-d70b-d68562c7628d"
      },
      "execution_count": null,
      "outputs": [
        {
          "output_type": "execute_result",
          "data": {
            "text/plain": [
              "'All through dinner time, Mrs. Fayre was somewhat silent, her eyes resting on Dolly with a wistful, uncertain expression. She wanted to give the child the pleasure she craved, but she had hard work to bring herself to the point of overcoming her own objections.\\nAt last, however, when the meal was nearly over, she smiled at her little daughter, and said, \"All right, Dolly, you may go.\"\\n\"Oh, mother!\" Dolly cried, overwhelmed with sudden delight. \"Really?\\nOh, I am so glad! Are you sure you\\'re willing?\"\\n\"I\\'ve persuaded myself to be willing, against my will,\" returned Mrs. Fayre, whimsically. \"I confess I just hate to have you go, but I can\\'t bear to deprive you of the pleasure trip. And, as you say, it would also keep Dotty at home, and so, altogether, I think I shall have to give in.\"\\n\"Oh, you angel mother! You blessed lady! How good you are!\" And Dolly flew around the table and gave her mother a hug that nearly suffocated her.'"
            ],
            "application/vnd.google.colaboratory.intrinsic+json": {
              "type": "string"
            }
          },
          "metadata": {},
          "execution_count": 17
        }
      ]
    },
    {
      "cell_type": "code",
      "source": [
        "##Replacing a few characters that may not be useful for our machine learning predictions respectively. \n",
        "df_train['excerpt'].apply(lambda text: text.replace('\\n', ' ')).iloc[1]"
      ],
      "metadata": {
        "colab": {
          "base_uri": "https://localhost:8080/"
        },
        "id": "kkz231SREJ_e",
        "outputId": "e5ca0794-b257-4fa2-dc55-f3daffb8e32d"
      },
      "execution_count": null,
      "outputs": [
        {
          "output_type": "execute_result",
          "data": {
            "text/plain": [
              "'All through dinner time, Mrs. Fayre was somewhat silent, her eyes resting on Dolly with a wistful, uncertain expression. She wanted to give the child the pleasure she craved, but she had hard work to bring herself to the point of overcoming her own objections. At last, however, when the meal was nearly over, she smiled at her little daughter, and said, \"All right, Dolly, you may go.\" \"Oh, mother!\" Dolly cried, overwhelmed with sudden delight. \"Really? Oh, I am so glad! Are you sure you\\'re willing?\" \"I\\'ve persuaded myself to be willing, against my will,\" returned Mrs. Fayre, whimsically. \"I confess I just hate to have you go, but I can\\'t bear to deprive you of the pleasure trip. And, as you say, it would also keep Dotty at home, and so, altogether, I think I shall have to give in.\" \"Oh, you angel mother! You blessed lady! How good you are!\" And Dolly flew around the table and gave her mother a hug that nearly suffocated her.'"
            ],
            "application/vnd.google.colaboratory.intrinsic+json": {
              "type": "string"
            }
          },
          "metadata": {},
          "execution_count": 18
        }
      ]
    },
    {
      "cell_type": "code",
      "source": [
        "df_train['excerpt'] = df_train['excerpt'].apply(lambda text: text.replace('\\n', ' '))\n",
        "df_test['excerpt'] = df_test['excerpt'].apply(lambda text: text.replace('\\n', ' '))"
      ],
      "metadata": {
        "id": "Rm1dewSsEJ_e"
      },
      "execution_count": null,
      "outputs": []
    },
    {
      "cell_type": "code",
      "source": [
        "df_train.head()"
      ],
      "metadata": {
        "scrolled": true,
        "colab": {
          "base_uri": "https://localhost:8080/"
        },
        "id": "STdhBVNjEJ_f",
        "outputId": "a0d15315-39a7-467b-8fda-856c58f78e42"
      },
      "execution_count": null,
      "outputs": [
        {
          "output_type": "execute_result",
          "data": {
            "text/plain": [
              "          id url_legal license  \\\n",
              "0  c12129c31       NaN     NaN   \n",
              "1  85aa80a4c       NaN     NaN   \n",
              "2  b69ac6792       NaN     NaN   \n",
              "3  dd1000b26       NaN     NaN   \n",
              "4  37c1b32fb       NaN     NaN   \n",
              "\n",
              "                                             excerpt    target  standard_error  \n",
              "0  When the young people returned to the ballroom... -0.340259        0.464009  \n",
              "1  All through dinner time, Mrs. Fayre was somewh... -0.315372        0.480805  \n",
              "2  As Roger had predicted, the snow departed as q... -0.580118        0.476676  \n",
              "3  And outside before the palace a great garden w... -1.054013        0.450007  \n",
              "4  Once upon a time there were Three Bears who li...  0.247197        0.510845  "
            ],
            "text/html": [
              "\n",
              "  <div id=\"df-ed93f77a-a3aa-4358-95b1-4d730f97e38f\">\n",
              "    <div class=\"colab-df-container\">\n",
              "      <div>\n",
              "<style scoped>\n",
              "    .dataframe tbody tr th:only-of-type {\n",
              "        vertical-align: middle;\n",
              "    }\n",
              "\n",
              "    .dataframe tbody tr th {\n",
              "        vertical-align: top;\n",
              "    }\n",
              "\n",
              "    .dataframe thead th {\n",
              "        text-align: right;\n",
              "    }\n",
              "</style>\n",
              "<table border=\"1\" class=\"dataframe\">\n",
              "  <thead>\n",
              "    <tr style=\"text-align: right;\">\n",
              "      <th></th>\n",
              "      <th>id</th>\n",
              "      <th>url_legal</th>\n",
              "      <th>license</th>\n",
              "      <th>excerpt</th>\n",
              "      <th>target</th>\n",
              "      <th>standard_error</th>\n",
              "    </tr>\n",
              "  </thead>\n",
              "  <tbody>\n",
              "    <tr>\n",
              "      <th>0</th>\n",
              "      <td>c12129c31</td>\n",
              "      <td>NaN</td>\n",
              "      <td>NaN</td>\n",
              "      <td>When the young people returned to the ballroom...</td>\n",
              "      <td>-0.340259</td>\n",
              "      <td>0.464009</td>\n",
              "    </tr>\n",
              "    <tr>\n",
              "      <th>1</th>\n",
              "      <td>85aa80a4c</td>\n",
              "      <td>NaN</td>\n",
              "      <td>NaN</td>\n",
              "      <td>All through dinner time, Mrs. Fayre was somewh...</td>\n",
              "      <td>-0.315372</td>\n",
              "      <td>0.480805</td>\n",
              "    </tr>\n",
              "    <tr>\n",
              "      <th>2</th>\n",
              "      <td>b69ac6792</td>\n",
              "      <td>NaN</td>\n",
              "      <td>NaN</td>\n",
              "      <td>As Roger had predicted, the snow departed as q...</td>\n",
              "      <td>-0.580118</td>\n",
              "      <td>0.476676</td>\n",
              "    </tr>\n",
              "    <tr>\n",
              "      <th>3</th>\n",
              "      <td>dd1000b26</td>\n",
              "      <td>NaN</td>\n",
              "      <td>NaN</td>\n",
              "      <td>And outside before the palace a great garden w...</td>\n",
              "      <td>-1.054013</td>\n",
              "      <td>0.450007</td>\n",
              "    </tr>\n",
              "    <tr>\n",
              "      <th>4</th>\n",
              "      <td>37c1b32fb</td>\n",
              "      <td>NaN</td>\n",
              "      <td>NaN</td>\n",
              "      <td>Once upon a time there were Three Bears who li...</td>\n",
              "      <td>0.247197</td>\n",
              "      <td>0.510845</td>\n",
              "    </tr>\n",
              "  </tbody>\n",
              "</table>\n",
              "</div>\n",
              "      <button class=\"colab-df-convert\" onclick=\"convertToInteractive('df-ed93f77a-a3aa-4358-95b1-4d730f97e38f')\"\n",
              "              title=\"Convert this dataframe to an interactive table.\"\n",
              "              style=\"display:none;\">\n",
              "        \n",
              "  <svg xmlns=\"http://www.w3.org/2000/svg\" height=\"24px\"viewBox=\"0 0 24 24\"\n",
              "       width=\"24px\">\n",
              "    <path d=\"M0 0h24v24H0V0z\" fill=\"none\"/>\n",
              "    <path d=\"M18.56 5.44l.94 2.06.94-2.06 2.06-.94-2.06-.94-.94-2.06-.94 2.06-2.06.94zm-11 1L8.5 8.5l.94-2.06 2.06-.94-2.06-.94L8.5 2.5l-.94 2.06-2.06.94zm10 10l.94 2.06.94-2.06 2.06-.94-2.06-.94-.94-2.06-.94 2.06-2.06.94z\"/><path d=\"M17.41 7.96l-1.37-1.37c-.4-.4-.92-.59-1.43-.59-.52 0-1.04.2-1.43.59L10.3 9.45l-7.72 7.72c-.78.78-.78 2.05 0 2.83L4 21.41c.39.39.9.59 1.41.59.51 0 1.02-.2 1.41-.59l7.78-7.78 2.81-2.81c.8-.78.8-2.07 0-2.86zM5.41 20L4 18.59l7.72-7.72 1.47 1.35L5.41 20z\"/>\n",
              "  </svg>\n",
              "      </button>\n",
              "      \n",
              "  <style>\n",
              "    .colab-df-container {\n",
              "      display:flex;\n",
              "      flex-wrap:wrap;\n",
              "      gap: 12px;\n",
              "    }\n",
              "\n",
              "    .colab-df-convert {\n",
              "      background-color: #E8F0FE;\n",
              "      border: none;\n",
              "      border-radius: 50%;\n",
              "      cursor: pointer;\n",
              "      display: none;\n",
              "      fill: #1967D2;\n",
              "      height: 32px;\n",
              "      padding: 0 0 0 0;\n",
              "      width: 32px;\n",
              "    }\n",
              "\n",
              "    .colab-df-convert:hover {\n",
              "      background-color: #E2EBFA;\n",
              "      box-shadow: 0px 1px 2px rgba(60, 64, 67, 0.3), 0px 1px 3px 1px rgba(60, 64, 67, 0.15);\n",
              "      fill: #174EA6;\n",
              "    }\n",
              "\n",
              "    [theme=dark] .colab-df-convert {\n",
              "      background-color: #3B4455;\n",
              "      fill: #D2E3FC;\n",
              "    }\n",
              "\n",
              "    [theme=dark] .colab-df-convert:hover {\n",
              "      background-color: #434B5C;\n",
              "      box-shadow: 0px 1px 3px 1px rgba(0, 0, 0, 0.15);\n",
              "      filter: drop-shadow(0px 1px 2px rgba(0, 0, 0, 0.3));\n",
              "      fill: #FFFFFF;\n",
              "    }\n",
              "  </style>\n",
              "\n",
              "      <script>\n",
              "        const buttonEl =\n",
              "          document.querySelector('#df-ed93f77a-a3aa-4358-95b1-4d730f97e38f button.colab-df-convert');\n",
              "        buttonEl.style.display =\n",
              "          google.colab.kernel.accessAllowed ? 'block' : 'none';\n",
              "\n",
              "        async function convertToInteractive(key) {\n",
              "          const element = document.querySelector('#df-ed93f77a-a3aa-4358-95b1-4d730f97e38f');\n",
              "          const dataTable =\n",
              "            await google.colab.kernel.invokeFunction('convertToInteractive',\n",
              "                                                     [key], {});\n",
              "          if (!dataTable) return;\n",
              "\n",
              "          const docLinkHtml = 'Like what you see? Visit the ' +\n",
              "            '<a target=\"_blank\" href=https://colab.research.google.com/notebooks/data_table.ipynb>data table notebook</a>'\n",
              "            + ' to learn more about interactive tables.';\n",
              "          element.innerHTML = '';\n",
              "          dataTable['output_type'] = 'display_data';\n",
              "          await google.colab.output.renderOutput(dataTable, element);\n",
              "          const docLink = document.createElement('div');\n",
              "          docLink.innerHTML = docLinkHtml;\n",
              "          element.appendChild(docLink);\n",
              "        }\n",
              "      </script>\n",
              "    </div>\n",
              "  </div>\n",
              "  "
            ]
          },
          "metadata": {},
          "execution_count": 20
        }
      ]
    },
    {
      "cell_type": "code",
      "source": [
        "df_train['excerpt'].iloc[1]"
      ],
      "metadata": {
        "colab": {
          "base_uri": "https://localhost:8080/"
        },
        "id": "bLUpRhQ9EJ_f",
        "outputId": "18deafb1-e24e-47ea-9b26-56d2dd2ab498"
      },
      "execution_count": null,
      "outputs": [
        {
          "output_type": "execute_result",
          "data": {
            "text/plain": [
              "'All through dinner time, Mrs. Fayre was somewhat silent, her eyes resting on Dolly with a wistful, uncertain expression. She wanted to give the child the pleasure she craved, but she had hard work to bring herself to the point of overcoming her own objections. At last, however, when the meal was nearly over, she smiled at her little daughter, and said, \"All right, Dolly, you may go.\" \"Oh, mother!\" Dolly cried, overwhelmed with sudden delight. \"Really? Oh, I am so glad! Are you sure you\\'re willing?\" \"I\\'ve persuaded myself to be willing, against my will,\" returned Mrs. Fayre, whimsically. \"I confess I just hate to have you go, but I can\\'t bear to deprive you of the pleasure trip. And, as you say, it would also keep Dotty at home, and so, altogether, I think I shall have to give in.\" \"Oh, you angel mother! You blessed lady! How good you are!\" And Dolly flew around the table and gave her mother a hug that nearly suffocated her.'"
            ],
            "application/vnd.google.colaboratory.intrinsic+json": {
              "type": "string"
            }
          },
          "metadata": {},
          "execution_count": 21
        }
      ]
    },
    {
      "cell_type": "markdown",
      "source": [
        "## 2.6 Wordcloud function\n",
        "\n",
        "We are going to be creating a wordcloud function that is important for machine learning. We are going to be using that function to create words and understand their frequency based on the size of those words respectively. Since it would be a good idea to use wordcloud in a function so that we could use the same block of code again.\n",
        "\n",
        "From the observation, we see that there are a few words such as \"One\" and \"said\" that are frequently occurring in our dataset. We were able to understand this with the help of the size of the words that are present in the wordcloud that indicate their frequency respectively. We also consider \".\" as a word and we see that it is also frequently occurrring respectively. There are some words that don't occur as much as the above mentioned words such as \"country\" and \"never\". \n",
        "\n",
        "Therefore, we were able to get a good understanding of the wordcloud figure and see the frequency of the occurence of the words based on the size in the figure given by the wordcloud. "
      ],
      "metadata": {
        "id": "PygJjzFsEJ_f"
      }
    },
    {
      "cell_type": "code",
      "source": [
        "def wordcloud_function(df, title, column, fontsize = 15, \n",
        "                       figsize = (10, 10), width = 300, height = 300):\n",
        "    \"\"\"\n",
        "    This function ensures that we get the size of the words based on their occurance \n",
        "    and we are going to use a figure to plot it in this function respectively. \n",
        "    \"\"\"\n",
        "    total_text = ''.join([text for text in df[column]])\n",
        "    wordcloud = WordCloud(width = width, height = height).generate(total_text)\n",
        "    plt.figure(figsize = figsize)\n",
        "    plt.imshow(wordcloud)\n",
        "    plt.title(title, fontsize = fontsize)\n",
        "    plt.show()\n",
        "wordcloud_function(df_train, title = \"Wordcloud function\", column = \"excerpt\")\n",
        "    "
      ],
      "metadata": {
        "execution": {
          "iopub.execute_input": "2021-07-24T21:46:30.431360Z",
          "iopub.status.busy": "2021-07-24T21:46:30.431057Z",
          "iopub.status.idle": "2021-07-24T21:46:32.594747Z",
          "shell.execute_reply": "2021-07-24T21:46:32.593870Z",
          "shell.execute_reply.started": "2021-07-24T21:46:30.431331Z"
        },
        "colab": {
          "base_uri": "https://localhost:8080/"
        },
        "id": "cLpAlIvaEJ_f",
        "outputId": "287986f3-779a-49fb-9120-3ca0299633f9"
      },
      "execution_count": null,
      "outputs": [
        {
          "output_type": "display_data",
          "data": {
            "text/plain": [
              "<Figure size 720x720 with 1 Axes>"
            ],
            "image/png": "[encoded data removed]"
          },
          "metadata": {
            "needs_background": "light"
          }
        }
      ]
    },
    {
      "cell_type": "markdown",
      "source": [
        "Now it is time to create a preprocessing function that would take into account the text and convert it in the form where the machine learning and deep learning models could use quite easily. Therefore, we are going to take that data and ensure that we understand how the machine learning models are going to perform in the future. \n",
        "\n",
        "In preprocessing function, we would just replace the punctuations and other things with only the text present in the excerpt. Later, we would lowercase the words and then remove the stopwords. Once the stopwords are removed, we are going to be lemmatizing those words (reducing words to their base form) so that their stem is retained along with taking the context. We would return the output as a list. "
      ],
      "metadata": {
        "id": "Gc6MWpCfEJ_g"
      }
    },
    {
      "cell_type": "code",
      "source": [
        "len(df_train)"
      ],
      "metadata": {
        "colab": {
          "base_uri": "https://localhost:8080/"
        },
        "id": "n7sVXskIEJ_g",
        "outputId": "3e517f63-da6d-4b1e-d694-838cfdf0e058"
      },
      "execution_count": null,
      "outputs": [
        {
          "output_type": "execute_result",
          "data": {
            "text/plain": [
              "2834"
            ]
          },
          "metadata": {},
          "execution_count": 23
        }
      ]
    },
    {
      "cell_type": "code",
      "source": [
        "len(df_train) * 0.7"
      ],
      "metadata": {
        "colab": {
          "base_uri": "https://localhost:8080/"
        },
        "id": "mmLwj4ZxEJ_g",
        "outputId": "49b3e77c-ce6c-42ea-a35c-dddb6e60bf55"
      },
      "execution_count": null,
      "outputs": [
        {
          "output_type": "execute_result",
          "data": {
            "text/plain": [
              "1983.8"
            ]
          },
          "metadata": {},
          "execution_count": 24
        }
      ]
    },
    {
      "cell_type": "code",
      "source": [
        "len(df_train) * 0.75"
      ],
      "metadata": {
        "colab": {
          "base_uri": "https://localhost:8080/"
        },
        "id": "cTtgP6ocEJ_g",
        "outputId": "7ffa46e8-2633-4092-e662-9f55ef87dd82"
      },
      "execution_count": null,
      "outputs": [
        {
          "output_type": "execute_result",
          "data": {
            "text/plain": [
              "2125.5"
            ]
          },
          "metadata": {},
          "execution_count": 25
        }
      ]
    },
    {
      "cell_type": "markdown",
      "source": [
        "## 2.7 Creating preprocessing function\n",
        "It is now time to understand the data and convert the essay values to different set of values that could be given to different vectorizers that are important for machine learning respectively. We would be performing various operations when we are creating this function. We would take the text and replace all the values with only alphabets. Later, we are going to lowercase the text and then tokenize and then, remove the stopwords that do not add a lot of meaning to the text. Finally, a dataframe is constructed and returned as output from the function. "
      ],
      "metadata": {
        "id": "N2CoyfrkEJ_h"
      }
    },
    {
      "cell_type": "code",
      "source": [
        "def preprocessing_function(df):\n",
        "    \"\"\"\n",
        "    This function takes into consideration the dataframe and extracts the text.\n",
        "    In addition, it makes modifications to the text and converts it to a simpler form\n",
        "    for machine learning processing respectively.\"\"\"\n",
        "    \n",
        "    text_list = []\n",
        "    for text in tqdm(df['excerpt'].values):\n",
        "        text = re.sub('[^a-zA-Z]', ' ', text)\n",
        "        text = text.lower()\n",
        "        text = nltk.word_tokenize(text)\n",
        "        [word for word in text if not word in set(stopwords.words(\"english\"))]\n",
        "        lemmatizer = nltk.WordNetLemmatizer()\n",
        "        text = [lemmatizer.lemmatize(word) for word in text]\n",
        "        text = \" \".join(text)\n",
        "        text_list.append(text)\n",
        "    text_list = pd.Series(text_list)\n",
        "    text_list.column = ['Converted_text']\n",
        "    return text_list\n",
        "        "
      ],
      "metadata": {
        "id": "uYojY3ndEJ_h"
      },
      "execution_count": null,
      "outputs": []
    },
    {
      "cell_type": "markdown",
      "source": [
        "We are going to store the output that is given by the preprocessing function into a variable and later use it. "
      ],
      "metadata": {
        "id": "cRj2vw5cEJ_h"
      }
    },
    {
      "cell_type": "code",
      "source": [
        "preprocessed_text = preprocessing_function(df_train)"
      ],
      "metadata": {
        "colab": {
          "base_uri": "https://localhost:8080/",
          "height": 1000
        },
        "id": "9X6JrVIFEJ_h",
        "outputId": "dfd2c53b-c71a-417d-d8ac-2a7c1ec45fb7"
      },
      "execution_count": null,
      "outputs": [
        {
          "output_type": "stream",
          "name": "stderr",
          "text": [
            "  0%|          | 0/2834 [00:00<?, ?it/s]\n"
          ]
        },
        {
          "output_type": "error",
          "ename": "LookupError",
          "evalue": "ignored",
          "traceback": [
            "\u001b[0;31m---------------------------------------------------------------------------\u001b[0m",
            "\u001b[0;31mLookupError\u001b[0m                               Traceback (most recent call last)",
            "\u001b[0;32m/usr/local/lib/python3.7/dist-packages/nltk/corpus/util.py\u001b[0m in \u001b[0;36m__load\u001b[0;34m(self)\u001b[0m\n\u001b[1;32m     79\u001b[0m             \u001b[0;32mexcept\u001b[0m \u001b[0mLookupError\u001b[0m \u001b[0;32mas\u001b[0m \u001b[0me\u001b[0m\u001b[0;34m:\u001b[0m\u001b[0;34m\u001b[0m\u001b[0;34m\u001b[0m\u001b[0m\n\u001b[0;32m---> 80\u001b[0;31m                 \u001b[0;32mtry\u001b[0m\u001b[0;34m:\u001b[0m \u001b[0mroot\u001b[0m \u001b[0;34m=\u001b[0m \u001b[0mnltk\u001b[0m\u001b[0;34m.\u001b[0m\u001b[0mdata\u001b[0m\u001b[0;34m.\u001b[0m\u001b[0mfind\u001b[0m\u001b[0;34m(\u001b[0m\u001b[0;34m'{}/{}'\u001b[0m\u001b[0;34m.\u001b[0m\u001b[0mformat\u001b[0m\u001b[0;34m(\u001b[0m\u001b[0mself\u001b[0m\u001b[0;34m.\u001b[0m\u001b[0msubdir\u001b[0m\u001b[0;34m,\u001b[0m \u001b[0mzip_name\u001b[0m\u001b[0;34m)\u001b[0m\u001b[0;34m)\u001b[0m\u001b[0;34m\u001b[0m\u001b[0;34m\u001b[0m\u001b[0m\n\u001b[0m\u001b[1;32m     81\u001b[0m                 \u001b[0;32mexcept\u001b[0m \u001b[0mLookupError\u001b[0m\u001b[0;34m:\u001b[0m \u001b[0;32mraise\u001b[0m \u001b[0me\u001b[0m\u001b[0;34m\u001b[0m\u001b[0;34m\u001b[0m\u001b[0m\n",
            "\u001b[0;32m/usr/local/lib/python3.7/dist-packages/nltk/data.py\u001b[0m in \u001b[0;36mfind\u001b[0;34m(resource_name, paths)\u001b[0m\n\u001b[1;32m    672\u001b[0m     \u001b[0mresource_not_found\u001b[0m \u001b[0;34m=\u001b[0m \u001b[0;34m'\\n%s\\n%s\\n%s\\n'\u001b[0m \u001b[0;34m%\u001b[0m \u001b[0;34m(\u001b[0m\u001b[0msep\u001b[0m\u001b[0;34m,\u001b[0m \u001b[0mmsg\u001b[0m\u001b[0;34m,\u001b[0m \u001b[0msep\u001b[0m\u001b[0;34m)\u001b[0m\u001b[0;34m\u001b[0m\u001b[0;34m\u001b[0m\u001b[0m\n\u001b[0;32m--> 673\u001b[0;31m     \u001b[0;32mraise\u001b[0m \u001b[0mLookupError\u001b[0m\u001b[0;34m(\u001b[0m\u001b[0mresource_not_found\u001b[0m\u001b[0;34m)\u001b[0m\u001b[0;34m\u001b[0m\u001b[0;34m\u001b[0m\u001b[0m\n\u001b[0m\u001b[1;32m    674\u001b[0m \u001b[0;34m\u001b[0m\u001b[0m\n",
            "\u001b[0;31mLookupError\u001b[0m: \n**********************************************************************\n  Resource \u001b[93mstopwords\u001b[0m not found.\n  Please use the NLTK Downloader to obtain the resource:\n\n  \u001b[31m>>> import nltk\n  >>> nltk.download('stopwords')\n  \u001b[0m\n  Searched in:\n    - '/root/nltk_data'\n    - '/usr/share/nltk_data'\n    - '/usr/local/share/nltk_data'\n    - '/usr/lib/nltk_data'\n    - '/usr/local/lib/nltk_data'\n    - '/usr/nltk_data'\n    - '/usr/lib/nltk_data'\n**********************************************************************\n",
            "\nDuring handling of the above exception, another exception occurred:\n",
            "\u001b[0;31mLookupError\u001b[0m                               Traceback (most recent call last)",
            "\u001b[0;32m<ipython-input-30-1606ad9c9768>\u001b[0m in \u001b[0;36m<module>\u001b[0;34m()\u001b[0m\n\u001b[0;32m----> 1\u001b[0;31m \u001b[0mpreprocessed_text\u001b[0m \u001b[0;34m=\u001b[0m \u001b[0mpreprocessing_function\u001b[0m\u001b[0;34m(\u001b[0m\u001b[0mdf_train\u001b[0m\u001b[0;34m)\u001b[0m\u001b[0;34m\u001b[0m\u001b[0;34m\u001b[0m\u001b[0m\n\u001b[0m",
            "\u001b[0;32m<ipython-input-26-3c1e11b644be>\u001b[0m in \u001b[0;36mpreprocessing_function\u001b[0;34m(df)\u001b[0m\n\u001b[1;32m     10\u001b[0m         \u001b[0mtext\u001b[0m \u001b[0;34m=\u001b[0m \u001b[0mtext\u001b[0m\u001b[0;34m.\u001b[0m\u001b[0mlower\u001b[0m\u001b[0;34m(\u001b[0m\u001b[0;34m)\u001b[0m\u001b[0;34m\u001b[0m\u001b[0;34m\u001b[0m\u001b[0m\n\u001b[1;32m     11\u001b[0m         \u001b[0mtext\u001b[0m \u001b[0;34m=\u001b[0m \u001b[0mnltk\u001b[0m\u001b[0;34m.\u001b[0m\u001b[0mword_tokenize\u001b[0m\u001b[0;34m(\u001b[0m\u001b[0mtext\u001b[0m\u001b[0;34m)\u001b[0m\u001b[0;34m\u001b[0m\u001b[0;34m\u001b[0m\u001b[0m\n\u001b[0;32m---> 12\u001b[0;31m         \u001b[0;34m[\u001b[0m\u001b[0mword\u001b[0m \u001b[0;32mfor\u001b[0m \u001b[0mword\u001b[0m \u001b[0;32min\u001b[0m \u001b[0mtext\u001b[0m \u001b[0;32mif\u001b[0m \u001b[0;32mnot\u001b[0m \u001b[0mword\u001b[0m \u001b[0;32min\u001b[0m \u001b[0mset\u001b[0m\u001b[0;34m(\u001b[0m\u001b[0mstopwords\u001b[0m\u001b[0;34m.\u001b[0m\u001b[0mwords\u001b[0m\u001b[0;34m(\u001b[0m\u001b[0;34m\"english\"\u001b[0m\u001b[0;34m)\u001b[0m\u001b[0;34m)\u001b[0m\u001b[0;34m]\u001b[0m\u001b[0;34m\u001b[0m\u001b[0;34m\u001b[0m\u001b[0m\n\u001b[0m\u001b[1;32m     13\u001b[0m         \u001b[0mlemmatizer\u001b[0m \u001b[0;34m=\u001b[0m \u001b[0mnltk\u001b[0m\u001b[0;34m.\u001b[0m\u001b[0mWordNetLemmatizer\u001b[0m\u001b[0;34m(\u001b[0m\u001b[0;34m)\u001b[0m\u001b[0;34m\u001b[0m\u001b[0;34m\u001b[0m\u001b[0m\n\u001b[1;32m     14\u001b[0m         \u001b[0mtext\u001b[0m \u001b[0;34m=\u001b[0m \u001b[0;34m[\u001b[0m\u001b[0mlemmatizer\u001b[0m\u001b[0;34m.\u001b[0m\u001b[0mlemmatize\u001b[0m\u001b[0;34m(\u001b[0m\u001b[0mword\u001b[0m\u001b[0;34m)\u001b[0m \u001b[0;32mfor\u001b[0m \u001b[0mword\u001b[0m \u001b[0;32min\u001b[0m \u001b[0mtext\u001b[0m\u001b[0;34m]\u001b[0m\u001b[0;34m\u001b[0m\u001b[0;34m\u001b[0m\u001b[0m\n",
            "\u001b[0;32m<ipython-input-26-3c1e11b644be>\u001b[0m in \u001b[0;36m<listcomp>\u001b[0;34m(.0)\u001b[0m\n\u001b[1;32m     10\u001b[0m         \u001b[0mtext\u001b[0m \u001b[0;34m=\u001b[0m \u001b[0mtext\u001b[0m\u001b[0;34m.\u001b[0m\u001b[0mlower\u001b[0m\u001b[0;34m(\u001b[0m\u001b[0;34m)\u001b[0m\u001b[0;34m\u001b[0m\u001b[0;34m\u001b[0m\u001b[0m\n\u001b[1;32m     11\u001b[0m         \u001b[0mtext\u001b[0m \u001b[0;34m=\u001b[0m \u001b[0mnltk\u001b[0m\u001b[0;34m.\u001b[0m\u001b[0mword_tokenize\u001b[0m\u001b[0;34m(\u001b[0m\u001b[0mtext\u001b[0m\u001b[0;34m)\u001b[0m\u001b[0;34m\u001b[0m\u001b[0;34m\u001b[0m\u001b[0m\n\u001b[0;32m---> 12\u001b[0;31m         \u001b[0;34m[\u001b[0m\u001b[0mword\u001b[0m \u001b[0;32mfor\u001b[0m \u001b[0mword\u001b[0m \u001b[0;32min\u001b[0m \u001b[0mtext\u001b[0m \u001b[0;32mif\u001b[0m \u001b[0;32mnot\u001b[0m \u001b[0mword\u001b[0m \u001b[0;32min\u001b[0m \u001b[0mset\u001b[0m\u001b[0;34m(\u001b[0m\u001b[0mstopwords\u001b[0m\u001b[0;34m.\u001b[0m\u001b[0mwords\u001b[0m\u001b[0;34m(\u001b[0m\u001b[0;34m\"english\"\u001b[0m\u001b[0;34m)\u001b[0m\u001b[0;34m)\u001b[0m\u001b[0;34m]\u001b[0m\u001b[0;34m\u001b[0m\u001b[0;34m\u001b[0m\u001b[0m\n\u001b[0m\u001b[1;32m     13\u001b[0m         \u001b[0mlemmatizer\u001b[0m \u001b[0;34m=\u001b[0m \u001b[0mnltk\u001b[0m\u001b[0;34m.\u001b[0m\u001b[0mWordNetLemmatizer\u001b[0m\u001b[0;34m(\u001b[0m\u001b[0;34m)\u001b[0m\u001b[0;34m\u001b[0m\u001b[0;34m\u001b[0m\u001b[0m\n\u001b[1;32m     14\u001b[0m         \u001b[0mtext\u001b[0m \u001b[0;34m=\u001b[0m \u001b[0;34m[\u001b[0m\u001b[0mlemmatizer\u001b[0m\u001b[0;34m.\u001b[0m\u001b[0mlemmatize\u001b[0m\u001b[0;34m(\u001b[0m\u001b[0mword\u001b[0m\u001b[0;34m)\u001b[0m \u001b[0;32mfor\u001b[0m \u001b[0mword\u001b[0m \u001b[0;32min\u001b[0m \u001b[0mtext\u001b[0m\u001b[0;34m]\u001b[0m\u001b[0;34m\u001b[0m\u001b[0;34m\u001b[0m\u001b[0m\n",
            "\u001b[0;32m/usr/local/lib/python3.7/dist-packages/nltk/corpus/util.py\u001b[0m in \u001b[0;36m__getattr__\u001b[0;34m(self, attr)\u001b[0m\n\u001b[1;32m    114\u001b[0m             \u001b[0;32mraise\u001b[0m \u001b[0mAttributeError\u001b[0m\u001b[0;34m(\u001b[0m\u001b[0;34m\"LazyCorpusLoader object has no attribute '__bases__'\"\u001b[0m\u001b[0;34m)\u001b[0m\u001b[0;34m\u001b[0m\u001b[0;34m\u001b[0m\u001b[0m\n\u001b[1;32m    115\u001b[0m \u001b[0;34m\u001b[0m\u001b[0m\n\u001b[0;32m--> 116\u001b[0;31m         \u001b[0mself\u001b[0m\u001b[0;34m.\u001b[0m\u001b[0m__load\u001b[0m\u001b[0;34m(\u001b[0m\u001b[0;34m)\u001b[0m\u001b[0;34m\u001b[0m\u001b[0;34m\u001b[0m\u001b[0m\n\u001b[0m\u001b[1;32m    117\u001b[0m         \u001b[0;31m# This looks circular, but its not, since __load() changes our\u001b[0m\u001b[0;34m\u001b[0m\u001b[0;34m\u001b[0m\u001b[0;34m\u001b[0m\u001b[0m\n\u001b[1;32m    118\u001b[0m         \u001b[0;31m# __class__ to something new:\u001b[0m\u001b[0;34m\u001b[0m\u001b[0;34m\u001b[0m\u001b[0;34m\u001b[0m\u001b[0m\n",
            "\u001b[0;32m/usr/local/lib/python3.7/dist-packages/nltk/corpus/util.py\u001b[0m in \u001b[0;36m__load\u001b[0;34m(self)\u001b[0m\n\u001b[1;32m     79\u001b[0m             \u001b[0;32mexcept\u001b[0m \u001b[0mLookupError\u001b[0m \u001b[0;32mas\u001b[0m \u001b[0me\u001b[0m\u001b[0;34m:\u001b[0m\u001b[0;34m\u001b[0m\u001b[0;34m\u001b[0m\u001b[0m\n\u001b[1;32m     80\u001b[0m                 \u001b[0;32mtry\u001b[0m\u001b[0;34m:\u001b[0m \u001b[0mroot\u001b[0m \u001b[0;34m=\u001b[0m \u001b[0mnltk\u001b[0m\u001b[0;34m.\u001b[0m\u001b[0mdata\u001b[0m\u001b[0;34m.\u001b[0m\u001b[0mfind\u001b[0m\u001b[0;34m(\u001b[0m\u001b[0;34m'{}/{}'\u001b[0m\u001b[0;34m.\u001b[0m\u001b[0mformat\u001b[0m\u001b[0;34m(\u001b[0m\u001b[0mself\u001b[0m\u001b[0;34m.\u001b[0m\u001b[0msubdir\u001b[0m\u001b[0;34m,\u001b[0m \u001b[0mzip_name\u001b[0m\u001b[0;34m)\u001b[0m\u001b[0;34m)\u001b[0m\u001b[0;34m\u001b[0m\u001b[0;34m\u001b[0m\u001b[0m\n\u001b[0;32m---> 81\u001b[0;31m                 \u001b[0;32mexcept\u001b[0m \u001b[0mLookupError\u001b[0m\u001b[0;34m:\u001b[0m \u001b[0;32mraise\u001b[0m \u001b[0me\u001b[0m\u001b[0;34m\u001b[0m\u001b[0;34m\u001b[0m\u001b[0m\n\u001b[0m\u001b[1;32m     82\u001b[0m \u001b[0;34m\u001b[0m\u001b[0m\n\u001b[1;32m     83\u001b[0m         \u001b[0;31m# Load the corpus.\u001b[0m\u001b[0;34m\u001b[0m\u001b[0;34m\u001b[0m\u001b[0;34m\u001b[0m\u001b[0m\n",
            "\u001b[0;32m/usr/local/lib/python3.7/dist-packages/nltk/corpus/util.py\u001b[0m in \u001b[0;36m__load\u001b[0;34m(self)\u001b[0m\n\u001b[1;32m     76\u001b[0m         \u001b[0;32melse\u001b[0m\u001b[0;34m:\u001b[0m\u001b[0;34m\u001b[0m\u001b[0;34m\u001b[0m\u001b[0m\n\u001b[1;32m     77\u001b[0m             \u001b[0;32mtry\u001b[0m\u001b[0;34m:\u001b[0m\u001b[0;34m\u001b[0m\u001b[0;34m\u001b[0m\u001b[0m\n\u001b[0;32m---> 78\u001b[0;31m                 \u001b[0mroot\u001b[0m \u001b[0;34m=\u001b[0m \u001b[0mnltk\u001b[0m\u001b[0;34m.\u001b[0m\u001b[0mdata\u001b[0m\u001b[0;34m.\u001b[0m\u001b[0mfind\u001b[0m\u001b[0;34m(\u001b[0m\u001b[0;34m'{}/{}'\u001b[0m\u001b[0;34m.\u001b[0m\u001b[0mformat\u001b[0m\u001b[0;34m(\u001b[0m\u001b[0mself\u001b[0m\u001b[0;34m.\u001b[0m\u001b[0msubdir\u001b[0m\u001b[0;34m,\u001b[0m \u001b[0mself\u001b[0m\u001b[0;34m.\u001b[0m\u001b[0m__name\u001b[0m\u001b[0;34m)\u001b[0m\u001b[0;34m)\u001b[0m\u001b[0;34m\u001b[0m\u001b[0;34m\u001b[0m\u001b[0m\n\u001b[0m\u001b[1;32m     79\u001b[0m             \u001b[0;32mexcept\u001b[0m \u001b[0mLookupError\u001b[0m \u001b[0;32mas\u001b[0m \u001b[0me\u001b[0m\u001b[0;34m:\u001b[0m\u001b[0;34m\u001b[0m\u001b[0;34m\u001b[0m\u001b[0m\n\u001b[1;32m     80\u001b[0m                 \u001b[0;32mtry\u001b[0m\u001b[0;34m:\u001b[0m \u001b[0mroot\u001b[0m \u001b[0;34m=\u001b[0m \u001b[0mnltk\u001b[0m\u001b[0;34m.\u001b[0m\u001b[0mdata\u001b[0m\u001b[0;34m.\u001b[0m\u001b[0mfind\u001b[0m\u001b[0;34m(\u001b[0m\u001b[0;34m'{}/{}'\u001b[0m\u001b[0;34m.\u001b[0m\u001b[0mformat\u001b[0m\u001b[0;34m(\u001b[0m\u001b[0mself\u001b[0m\u001b[0;34m.\u001b[0m\u001b[0msubdir\u001b[0m\u001b[0;34m,\u001b[0m \u001b[0mzip_name\u001b[0m\u001b[0;34m)\u001b[0m\u001b[0;34m)\u001b[0m\u001b[0;34m\u001b[0m\u001b[0;34m\u001b[0m\u001b[0m\n",
            "\u001b[0;32m/usr/local/lib/python3.7/dist-packages/nltk/data.py\u001b[0m in \u001b[0;36mfind\u001b[0;34m(resource_name, paths)\u001b[0m\n\u001b[1;32m    671\u001b[0m     \u001b[0msep\u001b[0m \u001b[0;34m=\u001b[0m \u001b[0;34m'*'\u001b[0m \u001b[0;34m*\u001b[0m \u001b[0;36m70\u001b[0m\u001b[0;34m\u001b[0m\u001b[0;34m\u001b[0m\u001b[0m\n\u001b[1;32m    672\u001b[0m     \u001b[0mresource_not_found\u001b[0m \u001b[0;34m=\u001b[0m \u001b[0;34m'\\n%s\\n%s\\n%s\\n'\u001b[0m \u001b[0;34m%\u001b[0m \u001b[0;34m(\u001b[0m\u001b[0msep\u001b[0m\u001b[0;34m,\u001b[0m \u001b[0mmsg\u001b[0m\u001b[0;34m,\u001b[0m \u001b[0msep\u001b[0m\u001b[0;34m)\u001b[0m\u001b[0;34m\u001b[0m\u001b[0;34m\u001b[0m\u001b[0m\n\u001b[0;32m--> 673\u001b[0;31m     \u001b[0;32mraise\u001b[0m \u001b[0mLookupError\u001b[0m\u001b[0;34m(\u001b[0m\u001b[0mresource_not_found\u001b[0m\u001b[0;34m)\u001b[0m\u001b[0;34m\u001b[0m\u001b[0;34m\u001b[0m\u001b[0m\n\u001b[0m\u001b[1;32m    674\u001b[0m \u001b[0;34m\u001b[0m\u001b[0m\n\u001b[1;32m    675\u001b[0m \u001b[0;34m\u001b[0m\u001b[0m\n",
            "\u001b[0;31mLookupError\u001b[0m: \n**********************************************************************\n  Resource \u001b[93mstopwords\u001b[0m not found.\n  Please use the NLTK Downloader to obtain the resource:\n\n  \u001b[31m>>> import nltk\n  >>> nltk.download('stopwords')\n  \u001b[0m\n  Searched in:\n    - '/root/nltk_data'\n    - '/usr/share/nltk_data'\n    - '/usr/local/share/nltk_data'\n    - '/usr/lib/nltk_data'\n    - '/usr/local/lib/nltk_data'\n    - '/usr/nltk_data'\n    - '/usr/lib/nltk_data'\n**********************************************************************\n"
          ]
        }
      ]
    },
    {
      "cell_type": "code",
      "source": [
        "preprocessed_text_test = preprocessing_function(df_test)"
      ],
      "metadata": {
        "id": "FprRh8G_EJ_h"
      },
      "execution_count": null,
      "outputs": []
    },
    {
      "cell_type": "markdown",
      "source": [
        "## 3.1 Defining get_useful_features functions\n",
        "\n",
        "It is now time to get the useful features that are important for machine learning. We would have to be creating new features that would help the machine learning models to get the best predictions for the difficulty of the text. \n",
        "\n",
        "Taking into consideration the excerpt and stopwords, we are going to be creating new feautres such as total number of words, sentence length, overall change in the text length and other features that are important for getting the machine learning outputs. The function would return the final dataframe that contains all the preprocessed output along with the newly created features that are important for machine learning. "
      ],
      "metadata": {
        "id": "q82yL9ZtEJ_i"
      }
    },
    {
      "cell_type": "code",
      "source": [
        "def get_useful_features(df, stop_words):\n",
        "    \"\"\"\n",
        "    The function would take the dataframe and stopwords and then, convert the excerpts into different features\n",
        "    such as the number of sentences, words and the lenght of the lemmas created along with the overall preprocessed\n",
        "    essay length.\"\"\"\n",
        "    sentences = []\n",
        "    num_of_words = []\n",
        "    sent_length = []\n",
        "    word_length = []\n",
        "    lemma_length = []\n",
        "    num_of_lemmas = []\n",
        "    preprocessed_essay_length = []\n",
        "    initial_text_length = []\n",
        "    num_of_sentences = []\n",
        "    text_shortage = []\n",
        "    \n",
        "    for text in tqdm(df['excerpt'].values):\n",
        "        \n",
        "        initial_length = len(text)\n",
        "        initial_text_length.append(initial_length)\n",
        "        num_sentences = len(sent_tokenize(text))\n",
        "        num_of_sentences.append(num_sentences)\n",
        "        text = re.sub('[^a-zA-Z]', ' ', text)\n",
        "        text = text.lower()\n",
        "        text = word_tokenize(text)\n",
        "        num_words = len(text) \n",
        "        num_of_words.append(num_words)\n",
        "        sent_length.append(num_words/num_sentences)\n",
        "        word_length.append(initial_length/num_words)\n",
        "        text = [word for word in text if not word in stop_words]\n",
        "        lemmatizer = nltk.WordNetLemmatizer()\n",
        "        text = [lemmatizer.lemmatize(word) for word in text]\n",
        "        #print(text)\n",
        "        num_lemmas = len(text)\n",
        "        num_of_lemmas.append(num_lemmas)\n",
        "        text = \" \".join(text)\n",
        "        #print(text)\n",
        "        preprocessed_essay_length_value = len(text)\n",
        "        preprocessed_essay_length.append(preprocessed_essay_length_value)\n",
        "        #print(preprocessed_essay_length)\n",
        "        #print(num_lemmas)\n",
        "        lemma_length.append(preprocessed_essay_length_value/num_lemmas)\n",
        "        \n",
        "        text_shortage.append(preprocessed_essay_length_value/initial_length)\n",
        "        \n",
        "    final_df = pd.concat([pd.Series(sent_length), pd.Series(num_of_words),\n",
        "                             pd.Series(word_length), pd.Series(lemma_length),\n",
        "                             pd.Series(num_of_sentences), pd.Series(initial_text_length),\n",
        "                             pd.Series(num_of_lemmas), pd.Series(preprocessed_essay_length),\n",
        "                             pd.Series(text_shortage)], axis = 1)\n",
        "    final_df.columns = [\"sentence_length\", \"num_of_words\", \"word_length\",\n",
        "                           \"lemma_length\", \"num_of_sentences\",\n",
        "                           \"initial_text_length\", \"num_of_lemmas\",\n",
        "                           \"preprocessed_essay_length\", \"text_shortage\"]\n",
        "    \n",
        "    return final_df\n",
        "        "
      ],
      "metadata": {
        "id": "Jw3kcKGIEJ_i"
      },
      "execution_count": null,
      "outputs": []
    },
    {
      "cell_type": "markdown",
      "source": [
        "We are now going to store those values into a variable that we can use to check the values respectively. "
      ],
      "metadata": {
        "id": "Pf-dDySvEJ_i"
      }
    },
    {
      "cell_type": "code",
      "source": [
        "final_df = get_useful_features(df_train, stop_words = set(stopwords.words(\"english\")))"
      ],
      "metadata": {
        "id": "AzV-b9tcEJ_i"
      },
      "execution_count": null,
      "outputs": []
    },
    {
      "cell_type": "code",
      "source": [
        "final_df_test = get_useful_features(df_test, stop_words = set(stopwords.words(\"english\")))"
      ],
      "metadata": {
        "id": "dnc83XoBEJ_j"
      },
      "execution_count": null,
      "outputs": []
    },
    {
      "cell_type": "markdown",
      "source": [
        "We have created a dataframe and we see that there are different features that we are going to be giving to the machine learning models for predictions. We have converted the text in the form of different useful features such as the number of words, average word and sentence length, number of lemmas created and preprocessed essay length. Overall, this could be given to the machine learning models for prediction where the target which is nothing but the difficulty of the text would be predicted using machine learning. "
      ],
      "metadata": {
        "id": "R-MbWQcmEJ_j"
      }
    },
    {
      "cell_type": "code",
      "source": [
        "final_df.head()"
      ],
      "metadata": {
        "id": "OG-XYUpMEJ_j"
      },
      "execution_count": null,
      "outputs": []
    },
    {
      "cell_type": "markdown",
      "source": [
        "## 3.2 Pairplot of Different Features \n",
        "\n",
        "It would be a good idea to see the pairplots which are nothing but a group of scatterplots where the values are spread based on the 2 features that are considered at hand. By looking at this pairplot, one would understand if there is any correlation between features and their values and spread respectively. \n",
        "\n",
        "When we get an almost a linear spread between features, we can understand that there is either a positive correlation or a negative correlation between the features at hand. \n",
        "\n",
        "Based on the observation, we see that there is a good correlation between number of words and intial text length. There is also a good positive correlation between the number of words and the text shortage metric that we have created. In addition, there is also a positive correlation between the lemma word average length and the overall average length of word before lemmatization. This tells us that based on how long the word is, the lemma form of the word would almost have identical size respectively. \n",
        "\n",
        "One more thing to observe based on the text values is that there is a slight negative correlation between the initial text length and the difficulty of the text. We can understand this to be true as when there are a lot of words in a sentence, it becomes easy to understand the text as the author usually would elaborate the points that he/she made and this ensures that there is clarity in the text and it being less difficult. More observations could be made using the pairplot function in seaborn. For now, we have made a good amount of useful observations that are important when doing the machine learning analysis. "
      ],
      "metadata": {
        "id": "NlFZmD9TEJ_j"
      }
    },
    {
      "cell_type": "code",
      "source": [
        "df_for_plotting = pd.concat([final_df, df_train[\"target\"]], axis = 1)\n",
        "ax = sns.pairplot(data = df_for_plotting, plot_kws = dict(color = \"maroon\"))\n",
        "plt.show()"
      ],
      "metadata": {
        "id": "0sXjq-1UEJ_j"
      },
      "execution_count": null,
      "outputs": []
    },
    {
      "cell_type": "code",
      "source": [
        "np.zeros_like((3, 3))"
      ],
      "metadata": {
        "execution": {
          "iopub.execute_input": "2021-07-24T21:24:09.392325Z",
          "iopub.status.busy": "2021-07-24T21:24:09.391826Z",
          "iopub.status.idle": "2021-07-24T21:24:09.405666Z",
          "shell.execute_reply": "2021-07-24T21:24:09.404548Z",
          "shell.execute_reply.started": "2021-07-24T21:24:09.392293Z"
        },
        "id": "0p_ZZddIEJ_j"
      },
      "execution_count": null,
      "outputs": []
    },
    {
      "cell_type": "markdown",
      "source": [
        "## 3.3 Heatmap of Correlation Matrix\n",
        "\n",
        "When we are using .corr(), we are going to get the correlation values for different features in a form of a table. Since interpreting a table is quite difficult especially with float values present, it would be a good idea to visualize the data and color the points based on their values.\n",
        "\n",
        "This is done with the aid of heatmap where based on the values present, they would change the intensity of their color. Below is a heatmap plotted that gives us a good idea about the correlation between different features that are important for machine learning. \n",
        "\n",
        "By observing the values below, one could get an understand there is a slight negative correlation between lemma_length and the difficulty of the text. In addition, we also see a negative correlation between average word length and the text's difficulty respectively. We see that there is also a clear negative correlation between sentence length and number of sentences. This means that as the number of sentences increase, there is a higher possibility that there can be a high sentence length. However, this does not mean that correlation is equal to causation. But based on the information and the context, we might assure that there is causation between features respectively. "
      ],
      "metadata": {
        "id": "Gb1nvJc8EJ_k"
      }
    },
    {
      "cell_type": "code",
      "source": [
        "correlation = df_for_plotting.corr()\n",
        "plt.figure(figsize = (10, 10))\n",
        "sns.heatmap(correlation, annot = True, cmap = 'Oranges', linewidths = 1,\n",
        "           annot_kws = {\"weight\": \"bold\", \"fontsize\": 10})"
      ],
      "metadata": {
        "id": "Ud8c3XbvEJ_k"
      },
      "execution_count": null,
      "outputs": []
    },
    {
      "cell_type": "markdown",
      "source": [
        "## 3.4 Scatterplot function\n",
        "\n",
        "It would be a good idea to create scatterplot function that ensures that we are able to change the parameters that are important for machine learning. We see that we might give the default parameters that are important for the scatterplot. However, we have the freedom to change the parameters as and when needed when calling the function.\n",
        "\n",
        "Since the function would only be used for plotting rather than returning any output, there is no return in a function. "
      ],
      "metadata": {
        "id": "1xHlo2goEJ_k"
      }
    },
    {
      "cell_type": "code",
      "source": [
        "def scatterplot_function(df: pd.DataFrame, X, Y, figsize = (10, 10), color = 'orange'):\n",
        "    plt.figure(figsize = figsize)\n",
        "    sns.scatterplot(data = df, x = X, y = Y, color = color)\n",
        "    plt.title(f'Scatterplot between {X} and {Y}')\n",
        "    plt.show()"
      ],
      "metadata": {
        "id": "RyJh474CEJ_k"
      },
      "execution_count": null,
      "outputs": []
    },
    {
      "cell_type": "markdown",
      "source": [
        "## 3.5 Scatterplot between num_of_sentences and target\n",
        "\n",
        "By looking at the heatmap above, we have considered the correlation between features and seen if there is any relationship between the features.\n",
        "\n",
        "Now, we would be focusing on the scatterplot between 'num_of_sentences' and 'target' respectively. Below, we see that there is a slight positive relationship between the output and the \"num_of_sentences\" feature. This could help us understand that there might be a change that when there is increase in the number of sentences, there is a possibility of the difficulty of the text would also increase. But let us not jump to the conclusion as correlation might not always be equal to causation. Hence, let us now explore more features which would ensure that we understand them and we are going to be using them. "
      ],
      "metadata": {
        "id": "lKJ59RgpEJ_k"
      }
    },
    {
      "cell_type": "code",
      "source": [
        "scatterplot_function(df_for_plotting, X = 'num_of_sentences', Y = 'target', figsize = (7, 7))"
      ],
      "metadata": {
        "id": "lwZjK_0cEJ_l"
      },
      "execution_count": null,
      "outputs": []
    },
    {
      "cell_type": "markdown",
      "source": [
        "## 3.6 Scatterplot between 'preprocessed_essay_length' and 'num_of_lemmas'\n",
        "\n",
        "Now, we are going to plot between 'preprocessed_essay_length' and 'num_of_lemmas' as we have seen that their correlation value is about 0.86 respectively. Therefore, we have plotted the scatterplot to understand the values respectively. We see that there is a good correlation between the features as there is not much scatter between the 2 features that we have considered.\n",
        "\n",
        "Lemmas are the words that are created after preprocessing the actual words and replacing those words with their stems but also considering the context at which those words appear. This ensures that we get the right stems that later could be vectorized and given to the machine learning models for processing and prediction respectively. \n"
      ],
      "metadata": {
        "id": "eeusr956EJ_l"
      }
    },
    {
      "cell_type": "code",
      "source": [
        "scatterplot_function(df_for_plotting, X = 'preprocessed_essay_length', Y = 'num_of_lemmas', figsize = (7, 7), color = 'maroon')"
      ],
      "metadata": {
        "id": "EX1xgzVAEJ_l"
      },
      "execution_count": null,
      "outputs": []
    },
    {
      "cell_type": "markdown",
      "source": [
        ""
      ],
      "metadata": {
        "id": "I5D4GKraEJ_l"
      }
    },
    {
      "cell_type": "code",
      "source": [
        "scatterplot_function(df_for_plotting, X = 'word_length', Y = 'text_shortage', figsize = (7, 7), color = 'green')"
      ],
      "metadata": {
        "id": "IBBxgCSLEJ_l"
      },
      "execution_count": null,
      "outputs": []
    },
    {
      "cell_type": "code",
      "source": [
        "scatterplot_function(df_for_plotting, X = 'num_of_sentences', Y = 'sentence_length', figsize = (7, 7), color = 'black')"
      ],
      "metadata": {
        "id": "JoNz-LNdEJ_l"
      },
      "execution_count": null,
      "outputs": []
    },
    {
      "cell_type": "code",
      "source": [
        "type(df_train['excerpt'])"
      ],
      "metadata": {
        "id": "Vc1v8jjkEJ_m"
      },
      "execution_count": null,
      "outputs": []
    },
    {
      "cell_type": "code",
      "source": [
        "df_for_plotting.head()"
      ],
      "metadata": {
        "id": "H3nZdexUEJ_m"
      },
      "execution_count": null,
      "outputs": []
    },
    {
      "cell_type": "markdown",
      "source": [
        "## 3.7 Creating new function that generates more features\n",
        "\n",
        "We are going to create a function that would create more features such as counting the number of commas, semicolons and other important features that are important for machine learning analysis. We would have to create empty lists of these values and we are going to concat those by converting them into series and then, return a new dataframe respectively. \n",
        "\n",
        "With the help of this function, we have created new dataframe which contains the useful columns that are important for machine learning respectively. We would be performing the feature analysis and thise ensures that we are going to be getting the best results on the test set respectively. \n",
        "\n",
        "At last, we are going to concat those values that are important for machine learning and this would ensure that we get the best results in the test set respectively. We are going to be taking those values and this ensures that we are getting the best results on the test set. "
      ],
      "metadata": {
        "id": "vWT1EAeuEJ_m"
      }
    },
    {
      "cell_type": "code",
      "source": [
        "def generate_more_features(df: pd.DataFrame):\n",
        "    \"\"\"\n",
        "    This function would create a dataframe of different useful features\n",
        "    that are important for machine learning predictions respectively.\n",
        "    \"\"\"\n",
        "    commas = []\n",
        "    semicolon = []\n",
        "    exclamations = []\n",
        "    questions = []\n",
        "    quotes = []\n",
        "    periods = []\n",
        "    longest_word = []\n",
        "    \n",
        "    for i in range(len(df)):\n",
        "        \n",
        "        #word_len = []\n",
        "        text = df['excerpt'].iloc[i]\n",
        "        commas.append(text.count(\",\"))\n",
        "        semicolon.append(text.count(\";\"))\n",
        "        exclamations.append(text.count(\"!\"))\n",
        "        questions.append(text.count(\"?\"))\n",
        "        quotes.append(text.count('\"'))\n",
        "        periods.append(text.count('.'))\n",
        "        word_len = [len(w) for w in text.split(\" \")]\n",
        "        longest_word.append(np.max(word_len))\n",
        "        \n",
        "    df_with_features =pd.concat((pd.Series(commas), pd.Series(semicolon), pd.Series(exclamations),\n",
        "                               pd.Series(questions), pd.Series(quotes), pd.Series(periods),\n",
        "                                pd.Series(longest_word)), axis = 1)\n",
        "    df_with_features.columns = [\"num_of_commas\", \"num_of_semicolons\", \"num_of_explamations\",\n",
        "                                \"num_of_questions\", \"num_of_quotes\", \"num_of_periods\", \n",
        "                                \"longest_word\"]\n",
        "                                \n",
        "    return df_with_features"
      ],
      "metadata": {
        "id": "kbW_S_fiEJ_m"
      },
      "execution_count": null,
      "outputs": []
    },
    {
      "cell_type": "markdown",
      "source": [
        "We would be using those functions and we are going to be taking those values in a variable respectively. "
      ],
      "metadata": {
        "id": "XqJOHHKCEJ_m"
      }
    },
    {
      "cell_type": "code",
      "source": [
        "df_with_more_features = generate_more_features(df_train)"
      ],
      "metadata": {
        "id": "rWsAXVMWEJ_n"
      },
      "execution_count": null,
      "outputs": []
    },
    {
      "cell_type": "code",
      "source": [
        "df_with_more_features_test = generate_more_features(df_test)"
      ],
      "metadata": {
        "id": "de2A8yZnEJ_n"
      },
      "execution_count": null,
      "outputs": []
    },
    {
      "cell_type": "markdown",
      "source": [
        "Reading the head of the dataframe, we see that there are different columns created along with the numerical representation respectively. Therefore, we have created a new dataframe in the above function and we have created some important features that could be used for machine learning analysis. "
      ],
      "metadata": {
        "id": "Y2doQoqGEJ_n"
      }
    },
    {
      "cell_type": "code",
      "source": [
        "df_with_more_features.head()"
      ],
      "metadata": {
        "id": "WHNYDKrMEJ_n"
      },
      "execution_count": null,
      "outputs": []
    },
    {
      "cell_type": "markdown",
      "source": [
        "We are now going to check whether there are any null values that are present in the newly created dataframe. We see below that there are some values that are null present in our dataframe. Therefore, we have to take our time to remove those null values so that we are going to be using the things that we are sure that the more we are learning in the long term. "
      ],
      "metadata": {
        "id": "W2n3BCqLEJ_n"
      }
    },
    {
      "cell_type": "code",
      "source": [
        "any(df_with_more_features.isnull())"
      ],
      "metadata": {
        "id": "N1z_PD-4EJ_n"
      },
      "execution_count": null,
      "outputs": []
    },
    {
      "cell_type": "markdown",
      "source": [
        "We are going to be creating the dataframe where there are null or not values that we are going to be using. "
      ],
      "metadata": {
        "id": "D550d-7EEJ_o"
      }
    },
    {
      "cell_type": "code",
      "source": [
        "df_with_more_features.isnull()"
      ],
      "metadata": {
        "id": "O4c27TvWEJ_o"
      },
      "execution_count": null,
      "outputs": []
    },
    {
      "cell_type": "markdown",
      "source": [
        "We are going to be taking a look at the null values and we are going to understand the different machine learning information respectively. "
      ],
      "metadata": {
        "id": "VECgHS4XEJ_o"
      }
    },
    {
      "cell_type": "code",
      "source": [
        "df_with_more_features.info()"
      ],
      "metadata": {
        "id": "4H0nxD-NEJ_o"
      },
      "execution_count": null,
      "outputs": []
    },
    {
      "cell_type": "markdown",
      "source": [
        "We are going to read the head of the dataframe and see the values and how they are spread out. "
      ],
      "metadata": {
        "id": "_1fSCW4tEJ_o"
      }
    },
    {
      "cell_type": "code",
      "source": [
        "df_with_more_features.head()"
      ],
      "metadata": {
        "id": "M-cxzElEEJ_o"
      },
      "execution_count": null,
      "outputs": []
    },
    {
      "cell_type": "code",
      "source": [
        "df_train['excerpt'].iloc[140]"
      ],
      "metadata": {
        "id": "ultYWMuVEJ_p"
      },
      "execution_count": null,
      "outputs": []
    },
    {
      "cell_type": "code",
      "source": [
        "df_train['excerpt'].iloc[143]"
      ],
      "metadata": {
        "id": "OvPz3sn9EJ_p"
      },
      "execution_count": null,
      "outputs": []
    },
    {
      "cell_type": "code",
      "source": [
        "df_for_plotting = pd.concat([df_with_more_features, df_train['target']], axis = 1)"
      ],
      "metadata": {
        "id": "XMU5TJYyEJ_p"
      },
      "execution_count": null,
      "outputs": []
    },
    {
      "cell_type": "markdown",
      "source": [
        "## 3.8 Pairplot of Other Features\n",
        "\n",
        "Understanding some of the pairplots, we are going to use them to see how the values are spread. We could see one positive correlation between the difficulty of the text and the \"num_of_periods\" that we have in our data. This means that more the number of sentences, there is a higher change for the text to be difficult to a certain extent. \n",
        "\n",
        "In addition to this, we also see that there is a relationship between the number of quotes and the difficulty of the text. We see quite a linear relationship between the features as can be seen. \n",
        "\n",
        "There is also a positive relationship between the number of questions and the difficulty of the text respectively. Therefore, by looking at the pairplot, we see that there are some features that are quite useful when doing the machine learning analysis respectively."
      ],
      "metadata": {
        "id": "f3r6XfwEEJ_p"
      }
    },
    {
      "cell_type": "code",
      "source": [
        "sns.pairplot(df_for_plotting, plot_kws = dict(color = 'green'))\n",
        "plt.show()\n"
      ],
      "metadata": {
        "scrolled": true,
        "id": "hV-NLmW0EJ_p"
      },
      "execution_count": null,
      "outputs": []
    },
    {
      "cell_type": "markdown",
      "source": [
        "## 3.9 Heatmap between num_of_quotes and num_of_questions\n",
        "\n",
        "Since we have created new features, let us see how these features are related to each other and the output variable respectively. We make some interesting observations by looking at the heatmap below. \n",
        "\n",
        "1. The feature num_of_explanations is quite related to num_of_quotes as can be seen in the heatmap below. \n",
        "2. We see that the num_of_questions are quite related to the num_of_quotes as well. \n",
        "3. There is a negative correlation between the num_of_semicolons and the num_of_periods.\n",
        "4. num_of_quotes and num_of_periods are quite positively correlated with the difficulty of the text. \n",
        "5. There is also a negative correlation between the length of the longest word and the difficulty of the text. \n",
        "\n",
        "With the help of heatmap, therefore, we were able to make some interesting observations above. "
      ],
      "metadata": {
        "id": "izJl45cSEJ_p"
      }
    },
    {
      "cell_type": "code",
      "source": [
        "df_correlation = df_for_plotting.corr()\n",
        "plt.figure(figsize = (10, 10))\n",
        "sns.heatmap(df_correlation, annot = True, cmap = 'Oranges', linewidths = 1,\n",
        "           annot_kws = {\"weight\": \"bold\", \"fontsize\": 10})"
      ],
      "metadata": {
        "id": "xWmY_AiYEJ_q"
      },
      "execution_count": null,
      "outputs": []
    },
    {
      "cell_type": "code",
      "source": [
        "df_with_more_features.info()"
      ],
      "metadata": {
        "id": "h8xFjDj0EJ_q"
      },
      "execution_count": null,
      "outputs": []
    },
    {
      "cell_type": "code",
      "source": [
        "generate_more_features(df_train)"
      ],
      "metadata": {
        "id": "wrpD-nLcEJ_q"
      },
      "execution_count": null,
      "outputs": []
    },
    {
      "cell_type": "code",
      "source": [
        "df_train['excerpt_length'] = df_train.excerpt.apply(len)\n",
        "df_test['excerpt_length'] = df_test.excerpt.apply(len)"
      ],
      "metadata": {
        "execution": {
          "iopub.execute_input": "2021-07-24T21:29:56.165843Z",
          "iopub.status.busy": "2021-07-24T21:29:56.165285Z",
          "iopub.status.idle": "2021-07-24T21:29:56.171736Z",
          "shell.execute_reply": "2021-07-24T21:29:56.170915Z",
          "shell.execute_reply.started": "2021-07-24T21:29:56.165810Z"
        },
        "id": "xc64Kcj3EJ_q"
      },
      "execution_count": null,
      "outputs": []
    },
    {
      "cell_type": "code",
      "source": [
        "df_train.head()"
      ],
      "metadata": {
        "id": "w_47MlBCEJ_q"
      },
      "execution_count": null,
      "outputs": []
    },
    {
      "cell_type": "code",
      "source": [
        "df_test.head()"
      ],
      "metadata": {
        "id": "Gp2bw-f_EJ_q"
      },
      "execution_count": null,
      "outputs": []
    },
    {
      "cell_type": "code",
      "source": [
        ""
      ],
      "metadata": {
        "id": "RfhuPFalEJ_r"
      },
      "execution_count": null,
      "outputs": []
    },
    {
      "cell_type": "code",
      "source": [
        "df_train.head()"
      ],
      "metadata": {
        "execution": {
          "iopub.execute_input": "2021-07-24T21:30:34.783461Z",
          "iopub.status.busy": "2021-07-24T21:30:34.782882Z",
          "iopub.status.idle": "2021-07-24T21:30:34.796608Z",
          "shell.execute_reply": "2021-07-24T21:30:34.795594Z",
          "shell.execute_reply.started": "2021-07-24T21:30:34.783417Z"
        },
        "id": "ygOLTViYEJ_r"
      },
      "execution_count": null,
      "outputs": []
    },
    {
      "cell_type": "code",
      "source": [
        "df_train.head()"
      ],
      "metadata": {
        "id": "LzbrX-DZEJ_r"
      },
      "execution_count": null,
      "outputs": []
    },
    {
      "cell_type": "code",
      "source": [
        "def Count_Vectorizer(df: pd.DataFrame):\n",
        "    vectorizer = CountVectorizer()\n",
        "    vectorizer.fit(df['excerpt'])\n",
        "    converted_vector = vectorizer.transform(df['excerpt'])\n",
        "    return converted_vector"
      ],
      "metadata": {
        "id": "KZTvLGX6EJ_r"
      },
      "execution_count": null,
      "outputs": []
    },
    {
      "cell_type": "code",
      "source": [
        "Count_Vectorizer(df_train)"
      ],
      "metadata": {
        "id": "we9hjJEwEJ_r"
      },
      "execution_count": null,
      "outputs": []
    },
    {
      "cell_type": "code",
      "source": [
        "from nltk.corpus import stopwords"
      ],
      "metadata": {
        "id": "y02WDyy_EJ_s"
      },
      "execution_count": null,
      "outputs": []
    },
    {
      "cell_type": "markdown",
      "source": [
        "## 4.1 Creating Decontracted function \n",
        "We are going to be creating this function which would take the actual subtext values and convert to forms that are easily accessible to the reader. Some of the words can be seen below from the function where the short forms are replaced with more useful texts respectively. This function is created so that the output from this could be given to other function that we are going to create just below this function. "
      ],
      "metadata": {
        "id": "79gyeg98EJ_s"
      }
    },
    {
      "cell_type": "code",
      "source": [
        "# https://stackoverflow.com/a/47091490/4084039\n",
        "import re\n",
        "\n",
        "def decontracted(phrase):\n",
        "    \"\"\"\n",
        "    This function would convert some short letters into the forms that one \n",
        "    could easily understand respectively.\n",
        "    \"\"\"\n",
        "    # specific\n",
        "    phrase = re.sub(r\"won't\", \"will not\", phrase)\n",
        "    phrase = re.sub(r\"can\\'t\", \"can not\", phrase)\n",
        "\n",
        "    # general\n",
        "    phrase = re.sub(r\"n\\'t\", \" not\", phrase)\n",
        "    phrase = re.sub(r\"\\'re\", \" are\", phrase)\n",
        "    phrase = re.sub(r\"\\'s\", \" is\", phrase)\n",
        "    phrase = re.sub(r\"\\'d\", \" would\", phrase)\n",
        "    phrase = re.sub(r\"\\'ll\", \" will\", phrase)\n",
        "    phrase = re.sub(r\"\\'t\", \" not\", phrase)\n",
        "    phrase = re.sub(r\"\\'ve\", \" have\", phrase)\n",
        "    phrase = re.sub(r\"\\'m\", \" am\", phrase)\n",
        "    return phrase"
      ],
      "metadata": {
        "id": "a2UivbY_EJ_s"
      },
      "execution_count": null,
      "outputs": []
    },
    {
      "cell_type": "markdown",
      "source": [
        "## 4.2 Creating preprocessing_function\n",
        "It is now time to create the preprocessing function that takes into account the dataframe and it would be removing the stopwords from the text. Later, it would be replacing those complex words that we have seen above with the easy words that are easier to preprocess and understand. Later, lemmatization is done which would replace the words into simpler forms so that they could be given to different machine learning and deep learning models to generate the output respectively. "
      ],
      "metadata": {
        "id": "bPXwGv3SEJ_s"
      }
    },
    {
      "cell_type": "code",
      "source": [
        "def preprocessing_function(df):\n",
        "    \"\"\"\n",
        "    In this function, we are going to be performing the basic preprocessing \n",
        "    which is needed before giving to different vectorizers. This ensures that\n",
        "    we are getting the best output values respectively.\n",
        "    \"\"\"\n",
        "    \n",
        "    stopwords_new = set(stopwords.words('english'))\n",
        "    text_list = []\n",
        "    for i in tqdm(range(len(df['excerpt']))):\n",
        "        text = df['excerpt'].iloc[i]\n",
        "        text = decontracted(text)\n",
        "        text = re.sub('[^a-zA-Z]', ' ', text)\n",
        "        text = text.lower()\n",
        "        text = [word for word in text.split(' ') if not word in stopwords_new]\n",
        "        lemmatizer = nltk.WordNetLemmatizer()\n",
        "        text = [lemmatizer.lemmatize(word) for word in text]\n",
        "        text_list.append(' '.join(text))\n",
        "    return text_list\n"
      ],
      "metadata": {
        "id": "EAnPtLU7EJ_s"
      },
      "execution_count": null,
      "outputs": []
    },
    {
      "cell_type": "markdown",
      "source": [
        "We are going to take the values that are given by the function and store it in a variable as can be seen below. "
      ],
      "metadata": {
        "id": "dmncEytREJ_s"
      }
    },
    {
      "cell_type": "code",
      "source": [
        "df_train_preprocessed = preprocessing_function(df_train)"
      ],
      "metadata": {
        "id": "hHhey37kEJ_t"
      },
      "execution_count": null,
      "outputs": []
    },
    {
      "cell_type": "markdown",
      "source": [
        "Similar process is applied to the test set so that we might make predictions with the best machine learning or deep learning model that we would be getting as the output. "
      ],
      "metadata": {
        "id": "aD3LkqyREJ_t"
      }
    },
    {
      "cell_type": "code",
      "source": [
        "df_test_preprocessed = preprocessing_function(df_test)"
      ],
      "metadata": {
        "id": "A9v05xWkEJ_t"
      },
      "execution_count": null,
      "outputs": []
    },
    {
      "cell_type": "markdown",
      "source": [
        "Taking a look at the head of the preprocessed that we got from the function and stored in this variable. "
      ],
      "metadata": {
        "id": "zLzqzI_PEJ_t"
      }
    },
    {
      "cell_type": "code",
      "source": [
        "preprocessed_text.head()"
      ],
      "metadata": {
        "id": "3blmZV_lEJ_t"
      },
      "execution_count": null,
      "outputs": []
    },
    {
      "cell_type": "code",
      "source": [
        "df_with_more_features.head()"
      ],
      "metadata": {
        "id": "FyrehRq3EJ_t"
      },
      "execution_count": null,
      "outputs": []
    },
    {
      "cell_type": "code",
      "source": [
        "df_for_plotting.head()"
      ],
      "metadata": {
        "id": "fbGEaqbBEJ_u"
      },
      "execution_count": null,
      "outputs": []
    },
    {
      "cell_type": "code",
      "source": [
        "final_df.head()"
      ],
      "metadata": {
        "id": "nxtZuOeFEJ_u"
      },
      "execution_count": null,
      "outputs": []
    },
    {
      "cell_type": "markdown",
      "source": [
        "## 4.3 Concatenating the dataframes\n",
        "\n",
        "We are going to be concatenating the dataframes that we have created previously. Taking some important features and the overall output values, we are later going to be generating the predictions that are important for machine learning outputs respectively. "
      ],
      "metadata": {
        "id": "Ofb7tFGIEJ_u"
      }
    },
    {
      "cell_type": "code",
      "source": [
        "df_complete = pd.concat((preprocessed_text, df_with_more_features, final_df), axis = 1)"
      ],
      "metadata": {
        "id": "ENNx-82xEJ_u"
      },
      "execution_count": null,
      "outputs": []
    },
    {
      "cell_type": "markdown",
      "source": [
        "We are also going to be doing the same thing for the test set. Considering the test set, we have to later apply the overall process that we have created for the training data. When we are done with the output values, we are going to be taking those new values which would ensure that we get the best output values respectively. "
      ],
      "metadata": {
        "id": "-ztuBNVUEJ_u"
      }
    },
    {
      "cell_type": "code",
      "source": [
        "df_complete_test = pd.concat((preprocessed_text_test, df_with_more_features_test, final_df_test), axis = 1)"
      ],
      "metadata": {
        "id": "c6o1CMffEJ_u"
      },
      "execution_count": null,
      "outputs": []
    },
    {
      "cell_type": "markdown",
      "source": [
        "We would be looking at the dataframe we got above and looking at some of the columns that we have taken into consideration. "
      ],
      "metadata": {
        "id": "5qFQxb9FEJ_v"
      }
    },
    {
      "cell_type": "code",
      "source": [
        "df_complete.head()"
      ],
      "metadata": {
        "id": "NDzEntucEJ_v"
      },
      "execution_count": null,
      "outputs": []
    },
    {
      "cell_type": "markdown",
      "source": [
        "We are going to also see how the test set values are generated. "
      ],
      "metadata": {
        "id": "i6E5zPMWEJ_v"
      }
    },
    {
      "cell_type": "code",
      "source": [
        "df_complete_test.head()"
      ],
      "metadata": {
        "id": "wflKeu2UEJ_v"
      },
      "execution_count": null,
      "outputs": []
    },
    {
      "cell_type": "code",
      "source": [
        "preprocessed_text.head()"
      ],
      "metadata": {
        "id": "zJ3upACEEJ_v"
      },
      "execution_count": null,
      "outputs": []
    },
    {
      "cell_type": "code",
      "source": [
        ""
      ],
      "metadata": {
        "id": "gj0PhDwlEJ_v"
      },
      "execution_count": null,
      "outputs": []
    },
    {
      "cell_type": "code",
      "source": [
        "vectorizer = TfidfVectorizer()\n",
        "array_output_values = vectorizer.fit_transform(preprocessed_text)"
      ],
      "metadata": {
        "id": "H0CQwYm-EJ_w"
      },
      "execution_count": null,
      "outputs": []
    },
    {
      "cell_type": "code",
      "source": [
        "from tensorflow.keras.layers import Dense, Dropout\n",
        "from tensorflow.keras.models import Sequential"
      ],
      "metadata": {
        "id": "HSF_EDNnEJ_w"
      },
      "execution_count": null,
      "outputs": []
    },
    {
      "cell_type": "code",
      "source": [
        "vectorizer = TfidfVectorizer()\n",
        "vectorizer.fit(df_train['excerpt'])\n",
        "df_train_converted = vectorizer.transform(df_train['excerpt'])"
      ],
      "metadata": {
        "id": "KiT8RHa9EJ_w"
      },
      "execution_count": null,
      "outputs": []
    },
    {
      "cell_type": "code",
      "source": [
        "df_train_converted"
      ],
      "metadata": {
        "id": "jqQaykPFEJ_w"
      },
      "execution_count": null,
      "outputs": []
    },
    {
      "cell_type": "code",
      "source": [
        "df_train_converted"
      ],
      "metadata": {
        "id": "QxhtfP4FEJ_w"
      },
      "execution_count": null,
      "outputs": []
    },
    {
      "cell_type": "code",
      "source": [
        "df_complete.head()"
      ],
      "metadata": {
        "id": "BuglbxTUEJ_x"
      },
      "execution_count": null,
      "outputs": []
    },
    {
      "cell_type": "code",
      "source": [
        "df_complete_test.head()"
      ],
      "metadata": {
        "id": "ojm4rzXPEJ_x"
      },
      "execution_count": null,
      "outputs": []
    },
    {
      "cell_type": "code",
      "source": [
        "df_complete_important_features = df_complete.iloc[:, 1:]\n",
        "df_complete_important_features_test = df_complete_test.iloc[:, 1:]"
      ],
      "metadata": {
        "id": "YdWDBGwYEJ_x"
      },
      "execution_count": null,
      "outputs": []
    },
    {
      "cell_type": "code",
      "source": [
        "df_complete_important_features.head()"
      ],
      "metadata": {
        "id": "pJDvx16UEJ_x"
      },
      "execution_count": null,
      "outputs": []
    },
    {
      "cell_type": "code",
      "source": [
        "from sklearn.preprocessing import MinMaxScaler"
      ],
      "metadata": {
        "id": "t5Zj4n5cEJ_x"
      },
      "execution_count": null,
      "outputs": []
    },
    {
      "cell_type": "markdown",
      "source": [
        "## 4.4 Creating min_max_scaler function\n",
        "\n",
        "With the help of this function, the training and the test values are converted to scaled outputs where the minimum value is 0 and the maximum value is 1 respectively. In other words, this function would just be converting those high values to lie between 0 and 1. "
      ],
      "metadata": {
        "id": "ErDQiGB-EJ_x"
      }
    },
    {
      "cell_type": "code",
      "source": [
        "def min_max_scaler(df_train, df_test):\n",
        "    \"\"\"\n",
        "    This function performs the scaling operation by taking into account the train and test set respectively. It is going to \n",
        "    convert the values that are present in the data to lie between 0 and 1 respectively.\n",
        "    \"\"\"\n",
        "    scaler = MinMaxScaler()\n",
        "    scaler.fit(df_train)\n",
        "    df_scaled = scaler.transform(df_train)\n",
        "    df_scaled_test = scaler.transform(df_test)\n",
        "    return df_scaled, df_scaled_test"
      ],
      "metadata": {
        "id": "Hgu6MF1UEJ_y"
      },
      "execution_count": null,
      "outputs": []
    },
    {
      "cell_type": "markdown",
      "source": [
        "## 4.5 Creating Tfidf_Vectorier function\n",
        "This function would convert the training and the test values to Tfidf vectors that are important for machine learning analysis in the future respectively. Therefore, the text document is converted into a group of vectors that is easy for the machine learning and deep learning models to perform well on the training and the test data.\n",
        "\n",
        "We have to note that the machine learning models would be working with only the numerical data rather than any other sort of data such as text and other forms of data. Hence, steps must be taken to ensure that the values that are given to the machine learning models are numerical in nature. "
      ],
      "metadata": {
        "id": "JJghTBsqEJ_y"
      }
    },
    {
      "cell_type": "code",
      "source": [
        "def Tfidf_Vectorizer(df_train, df_test):\n",
        "    \"\"\"\n",
        "    This function would take the training data and the test data and convert those values which would be in the form of text \n",
        "    to tfidf values that could be later used for machine learning analysis.\n",
        "    \"\"\"\n",
        "    vectorizer = TfidfVectorizer()\n",
        "    df_vectorized_train = vectorizer.fit_transform(df_train)\n",
        "    df_vectorized_test = vectorizer.transform(df_test)\n",
        "    return df_vectorized_train, df_vectorized_test"
      ],
      "metadata": {
        "id": "Kq4KDFFdEJ_y"
      },
      "execution_count": null,
      "outputs": []
    },
    {
      "cell_type": "markdown",
      "source": [
        "## 4.6 Creating Count_Vectorizer function \n",
        "In the count vectorizer function, the original text document both for the training and the test sets are taken and we are going to be converting those values Bag-Of-Words (BOW) representation that would be later given to the machine learning models for prediction. "
      ],
      "metadata": {
        "id": "apJ-9c0zEJ_y"
      }
    },
    {
      "cell_type": "code",
      "source": [
        "def Count_Vectorizer(df_train, df_test):\n",
        "    \"\"\"\n",
        "    This function would take the training data and the test data and convert those values which would be in the form of text to \n",
        "    bag of words representation or count vectorized values which are later used for machine learning prediction.\n",
        "    \"\"\"\n",
        "    vectorizer = CountVectorizer()\n",
        "    df_vectorized_train = vectorizer.fit_transform(df_train)\n",
        "    df_vectorized_test = vectorizer.transform(df_test)\n",
        "    return df_vectorized_train, df_vectorized_test"
      ],
      "metadata": {
        "id": "2bq7FA96EJ_y"
      },
      "execution_count": null,
      "outputs": []
    },
    {
      "cell_type": "code",
      "source": [
        "df_complete_important_features\n",
        "df_complete_important_features_test\n"
      ],
      "metadata": {
        "id": "EujLaKW9EJ_y"
      },
      "execution_count": null,
      "outputs": []
    },
    {
      "cell_type": "code",
      "source": [
        "df_train_converted"
      ],
      "metadata": {
        "id": "RRj6c_5BEJ_z"
      },
      "execution_count": null,
      "outputs": []
    },
    {
      "cell_type": "code",
      "source": [
        "df_scaled, df_scaled_test = min_max_scaler(df_complete_important_features, df_complete_important_features_test)"
      ],
      "metadata": {
        "id": "RiCO3ZMREJ_z"
      },
      "execution_count": null,
      "outputs": []
    },
    {
      "cell_type": "markdown",
      "source": [
        "## 4.7 Creating Vectorizer_decision function\n",
        "This function would give the user whether he/she should be using the Count Vectorizer or the Tfidf Vectorizer that is being used for machine learning. Therefore, they have the freedom to select the type of vectorizer which might be given to the dataframe which would later be used for predictions. \n",
        "The Vectorizer decision would use the above functions which we have created and this would be the main function that would take into account all the values that are present respectively. "
      ],
      "metadata": {
        "id": "JDh2tv_rEJ_z"
      }
    },
    {
      "cell_type": "code",
      "source": [
        "def Vectorizer_decision(df_train, df_test):\n",
        "    print(\"Please enter the vectorizer that you would like to use for your data\")\n",
        "    print(\"Please select from the following options\")\n",
        "    print(\"1. Count Vectorizer\")\n",
        "    print(\"2. Tfidf Vectorizer\")\n",
        "    choice = int(input(\"Enter 1 or 2:\"))\n",
        "    type(choice)\n",
        "    if choice != 1 and choice != 2:\n",
        "        choice = input(\"Please select only from the listed options\")\n",
        "        vectorized_train = 0\n",
        "        vectorized_test = 0\n",
        "    elif choice == 1:\n",
        "        print(\"Count Vectorizer Selected\")\n",
        "        vectorized_train, vectorized_test = Count_Vectorizer(df_train.iloc[:, 0], df_test.iloc[:, 0])\n",
        "    else:\n",
        "        print(\"Tfidf Vectorizer Selected\")\n",
        "        vectorized_train, vectorized_test = Tfidf_Vectorizer(df_train.iloc[:, 0], df_test.iloc[:, 0])\n",
        "    return vectorized_train, vectorized_test"
      ],
      "metadata": {
        "id": "C0BGmVP0EJ_z"
      },
      "execution_count": null,
      "outputs": []
    },
    {
      "cell_type": "markdown",
      "source": [
        "Storing the vectorizer outputs in different variables respectively. "
      ],
      "metadata": {
        "id": "ZJj6aCblEJ_z"
      }
    },
    {
      "cell_type": "code",
      "source": [
        "df_vectorized, df_vectorized_test = Vectorizer_decision(df_complete.copy(), df_complete_test.copy())"
      ],
      "metadata": {
        "id": "dY7XTMJhEJ_z"
      },
      "execution_count": null,
      "outputs": []
    },
    {
      "cell_type": "markdown",
      "source": [
        "Since the output that we got is a sparse matrix after giving to the vectorizers, it is important to convert those values to numpy vectors before performing the machine learning tasks. "
      ],
      "metadata": {
        "id": "uduQw74vEJ_0"
      }
    },
    {
      "cell_type": "code",
      "source": [
        "df_vectorized = df_vectorized.toarray()\n",
        "df_vectorized_test = df_vectorized_test.toarray()"
      ],
      "metadata": {
        "id": "k5LjzBEpEJ_0"
      },
      "execution_count": null,
      "outputs": []
    },
    {
      "cell_type": "markdown",
      "source": [
        "Let us now look at the scaled version that we would be giving to the machine learning models for predictions. "
      ],
      "metadata": {
        "id": "AxeT-pQ2EJ_0"
      }
    },
    {
      "cell_type": "code",
      "source": [
        "df_scaled"
      ],
      "metadata": {
        "id": "VpNyLtzpEJ_0"
      },
      "execution_count": null,
      "outputs": []
    },
    {
      "cell_type": "markdown",
      "source": [
        ""
      ],
      "metadata": {
        "id": "2lrQunJJEJ_0"
      }
    },
    {
      "cell_type": "markdown",
      "source": [
        "Now, it is now time concatenate the created numpy arrays so that they could be ready to be split."
      ],
      "metadata": {
        "id": "ErtlLFWGEJ_0"
      }
    },
    {
      "cell_type": "code",
      "source": [
        "X = np.concatenate((df_vectorized, df_scaled), axis = 1)\n",
        "X_test = np.concatenate((df_vectorized_test, df_scaled_test), axis = 1)\n",
        "y = df_train['target'].values"
      ],
      "metadata": {
        "id": "RuzIGYWNEJ_0"
      },
      "execution_count": null,
      "outputs": []
    },
    {
      "cell_type": "markdown",
      "source": [
        "Just to ensure that everything we did is correct, we'll check the length of the input numpy array. "
      ],
      "metadata": {
        "id": "uRBW_InCEJ_1"
      }
    },
    {
      "cell_type": "code",
      "source": [
        "len(X)"
      ],
      "metadata": {
        "id": "wQLvGh0sEJ_1"
      },
      "execution_count": null,
      "outputs": []
    },
    {
      "cell_type": "markdown",
      "source": [
        "Similarly, we do the same for the test set as well. "
      ],
      "metadata": {
        "id": "-Z5KaDRQEJ_1"
      }
    },
    {
      "cell_type": "code",
      "source": [
        "len(X_test)"
      ],
      "metadata": {
        "id": "M4KJYFYvEJ_1"
      },
      "execution_count": null,
      "outputs": []
    },
    {
      "cell_type": "markdown",
      "source": [
        "## 4.8 Splitting the data into training and cross-validation data \n",
        "\n",
        "The overall input is going to be divided into training and cross-validation data. We have the test data with us without any labels. We are going to be taking only the trianing and cross-validation data and we are going to be using those values to be predicting the test set respectively. About 70 percent of the values are going to be taken as the training data and the remaining 30 percent of the values are going to be the cross-validation data points respectively. We randomly assign a state so that that split is created everytime we use the train_test_split method respectively."
      ],
      "metadata": {
        "id": "r22X-tuNEJ_1"
      }
    },
    {
      "cell_type": "code",
      "source": [
        "X_train, X_cv, y_train, y_cv = train_test_split(X, y, test_size = 0.3, random_state = 50)"
      ],
      "metadata": {
        "id": "1vEFJBeHEJ_2"
      },
      "execution_count": null,
      "outputs": []
    },
    {
      "cell_type": "markdown",
      "source": [
        "## 5.1 Neural Network Model\n",
        "\n",
        "A new function that would give the basic architecture of a neural network is created. The neural network model takes into account the training and the validation data. In addition, it just takes the default values of the metrics to be mean_squared_error and mean_absolute_error respectively. The activation units used are 'relu' by default. In addition to this, the default optimizer is 'adam'm and the loss that we are going to be considering is the 'mean_squared_error' loss respectively. The default epoch values are 10 and batch_size is about 64. We might change the values accordingly as and when required. \n",
        "\n"
      ],
      "metadata": {
        "id": "Jl6rFd_YEJ_2"
      }
    },
    {
      "cell_type": "code",
      "source": [
        "def neural_network(X_train, y_train, Validation_data = None, metrics = ['mean_squared_error', 'mean_absolute_error'], \n",
        "                   activation = 'relu', input_shape = (22690, ), optimizer = 'adam', loss = 'mean_squared_error',\n",
        "                  epochs = 10, batch_size = 64, verbose = 1):\n",
        "    \"\"\"\n",
        "    We are defining a neural network function that takes into account a different set of parameters\n",
        "    that are needed to build the machine learning model and we are also giving different values\n",
        "    and it would be working with different parameters and we are able to give those values to our \n",
        "    deep learning models and we are going to return the output given by the model respectively.\n",
        "    \"\"\"\n",
        "    \n",
        "    model = Sequential()\n",
        "    model.add(Dense(500, activation = activation, input_shape = input_shape))\n",
        "    model.add(Dense(100, activation = activation))\n",
        "    model.add(Dense(50, activation = activation))\n",
        "    model.add(Dense(10, activation = activation))\n",
        "    model.add(Dense(5, activation = activation))\n",
        "    model.add(Dense(1))\n",
        "    model.compile(loss = loss, metrics = metrics, optimizer = optimizer)\n",
        "    if Validation_data:\n",
        "              model.fit(x = X_train, y = y_train, validation_data = Validation_data, epochs = epochs, batch_size = batch_size, verbose = verbose)\n",
        "    else:\n",
        "              model.fit(x = X_train, y = y_train, epochs = epochs, batch_size = batch_size, verbose = verbose)\n",
        "    return model "
      ],
      "metadata": {
        "id": "Wd2UU9ntEJ_2"
      },
      "execution_count": null,
      "outputs": []
    },
    {
      "cell_type": "markdown",
      "source": [
        "A new variable called 'model' is created that would take the output of the neural network function. We might change a few parameters to the function but it is not required for now. But we have the freedom to change some default values that would change some training parameters in the deep learning model. "
      ],
      "metadata": {
        "id": "D6aaOmTUEJ_2"
      }
    },
    {
      "cell_type": "code",
      "source": [
        "model = neural_network(X_train = X_train, y_train = y_train, Validation_data = (X_cv, y_cv))"
      ],
      "metadata": {
        "id": "SqSkpYWYEJ_2"
      },
      "execution_count": null,
      "outputs": []
    },
    {
      "cell_type": "code",
      "source": [
        "model.predict(X_test)"
      ],
      "metadata": {
        "id": "06AsSndbEJ_2"
      },
      "execution_count": null,
      "outputs": []
    },
    {
      "cell_type": "markdown",
      "source": [
        "## 5.2 TFIDF Vectorizer"
      ],
      "metadata": {
        "id": "EOlbEk55EJ_3"
      }
    },
    {
      "cell_type": "markdown",
      "source": [
        "We are going to be using the Tfidf vectorizer that would give us a good understanding of the performance of the neural network model. In the Tfidf Vectorizer, we are going to be taking the different words that are present in a text and also calculated the inverse document frequency of a particular word. We are going to be doing this process for all the words and see the importance of different words and those values are given for each and every word that we have considered. This would ensure that a mathematical vector is created for the machine learning processing respectively. "
      ],
      "metadata": {
        "id": "BeWp3PgXEJ_3"
      }
    },
    {
      "cell_type": "code",
      "source": [
        "df_vectorized, df_vectorized_test = Vectorizer_decision(df_complete, df_complete_test)"
      ],
      "metadata": {
        "id": "2OLxT-xEEJ_3"
      },
      "execution_count": null,
      "outputs": []
    },
    {
      "cell_type": "markdown",
      "source": [
        "The output that we get from the above is a sparse matrix. Since we cannot work with sparse matrices for machine learning applications, it would be a good idea to convert those values to numpy vectors which would ensure that we get the best output values respectively. "
      ],
      "metadata": {
        "id": "dfeXgg6aEJ_3"
      }
    },
    {
      "cell_type": "code",
      "source": [
        "df_vectorized = df_vectorized.toarray()\n",
        "df_vectorized_test = df_vectorized_test.toarray()"
      ],
      "metadata": {
        "id": "WMvKkGVBEJ_3"
      },
      "execution_count": null,
      "outputs": []
    },
    {
      "cell_type": "markdown",
      "source": [
        "We are going to be taking a look at the vectorizer and the output values just to ensure how the values are spread respectively. "
      ],
      "metadata": {
        "id": "-EgrwG5xEJ_3"
      }
    },
    {
      "cell_type": "code",
      "source": [
        "len(df_vectorized)"
      ],
      "metadata": {
        "id": "j5PohkwrEJ_4"
      },
      "execution_count": null,
      "outputs": []
    },
    {
      "cell_type": "markdown",
      "source": [
        "Using the numpy concatenate attribute, we would take the values into account and join the previous scaled values to the vectorized values respectively. "
      ],
      "metadata": {
        "id": "NPeq_7RpEJ_4"
      }
    },
    {
      "cell_type": "code",
      "source": [
        "X = np.concatenate((df_vectorized, df_scaled), axis = 1)\n",
        "X_test = np.concatenate((df_vectorized_test, df_scaled_test), axis = 1)\n",
        "y = df_train['target'].values"
      ],
      "metadata": {
        "id": "ea_8BigHEJ_4"
      },
      "execution_count": null,
      "outputs": []
    },
    {
      "cell_type": "markdown",
      "source": [
        "Again, dividing the overall values into training and cross-validation data. Generally, it is a good idea to take about 70 percent of the values to be the training values and 30 percent to the test values respectively. "
      ],
      "metadata": {
        "id": "uKvp3Mz_EJ_4"
      }
    },
    {
      "cell_type": "code",
      "source": [
        "X_train, X_cv, y_train, y_cv = train_test_split(X, y, test_size = 0.3, random_state = 50)"
      ],
      "metadata": {
        "id": "XmSIehdiEJ_4"
      },
      "execution_count": null,
      "outputs": []
    },
    {
      "cell_type": "markdown",
      "source": [
        "Earlier, a function for the neural network was created with different set of values. Now, it is time to use the values that we have created and store those results in the model varaible as can be seen below. "
      ],
      "metadata": {
        "id": "vz2j8rmtEJ_4"
      }
    },
    {
      "cell_type": "code",
      "source": [
        "model = neural_network(X_train = X_train, y_train = y_train, Validation_data = (X_cv, y_cv))"
      ],
      "metadata": {
        "id": "x_-haFg7EJ_4"
      },
      "execution_count": null,
      "outputs": []
    },
    {
      "cell_type": "markdown",
      "source": [
        "## 5.3 Creating actual_vs_predictions_dataframe\n",
        "\n",
        "This is just a helper function where 2 dataframes are taken and it would just concatenate those values together and return the concatenated dataframe. This function is used so that we are going to concatenate the predictions outputs and the actual cross-validation outputs and plot a scatterplot between them. Using this dataframe, we are going to be plotting the scatterplot between the actual values and the predicted values respectively. "
      ],
      "metadata": {
        "id": "CuVz4hNJEJ_5"
      }
    },
    {
      "cell_type": "code",
      "source": [
        "def actual_vs_predictions_dataframe(dataframe1, dataframe2, column1 = 'predicted', column2 = 'actual'):\n",
        "    \"\"\"\n",
        "    This function takes the 2 dataframes and returns the concatenated values as a form of dataframe respectively.\n",
        "    \"\"\"\n",
        "    dataframe1 = pd.DataFrame(pd.Series(dataframe1), columns = [column1])\n",
        "    dataframe2 = pd.DataFrame(pd.Series(dataframe2), columns = [column2])\n",
        "    dataframe_concatenated = pd.concat((dataframe1, dataframe2), axis = 1)\n",
        "    return dataframe_concatenated"
      ],
      "metadata": {
        "id": "MrEvQfDjEJ_5"
      },
      "execution_count": null,
      "outputs": []
    },
    {
      "cell_type": "markdown",
      "source": [
        "## 5.4 Creating regression_plot_function\n",
        "This would take the dataframe and it is going to be plotting the regression scatterplot between the 2 features that were taken into consideration respectively. This would be used everything predictions are generated. Therefore, this function is created so that it becomes easy to use the body of the function very well."
      ],
      "metadata": {
        "id": "NX0LD8ZgEJ_5"
      }
    },
    {
      "cell_type": "code",
      "source": [
        "def regression_plot_function(dataframe, fig_size = (10, 10), color = 'teal'):\n",
        "    plt.figure(figsize = fig_size)\n",
        "    sns.regplot(data = dataframe, y = dataframe.columns[0], x = dataframe.columns[1], color = color, marker = 'o')\n",
        "    plt.title(\"Comparision of predicted values and the actual values\", fontsize = 20)\n",
        "    plt.show()\n"
      ],
      "metadata": {
        "id": "h89bHazTEJ_5"
      },
      "execution_count": null,
      "outputs": []
    },
    {
      "cell_type": "markdown",
      "source": [
        "We are going to be generating cross-validation predictions respectively. "
      ],
      "metadata": {
        "id": "emEQMKGAEJ_5"
      }
    },
    {
      "cell_type": "code",
      "source": [
        "y_cv_predictions = model.predict(X_cv)"
      ],
      "metadata": {
        "id": "zzGx4XnIEJ_5"
      },
      "execution_count": null,
      "outputs": []
    },
    {
      "cell_type": "markdown",
      "source": [
        "A final dataframe is generated that would take the actual values and the predicted values and we are going to get the final dataframe that could be used for regression and scatterplots respectively."
      ],
      "metadata": {
        "id": "27aF38T4EJ_5"
      }
    },
    {
      "cell_type": "code",
      "source": [
        "final_dataframe = actual_vs_predictions_dataframe(y_cv_predictions.flatten(), y_cv)"
      ],
      "metadata": {
        "id": "DOV7ZWjQEJ_6"
      },
      "execution_count": null,
      "outputs": []
    },
    {
      "cell_type": "markdown",
      "source": [
        "Now is the time to use the above function that we have created for plotting the regression plots respectively. We see that the neural network model with the tfidf vectorized vectors did a good job overall in predicting the difficulty of the text. If the predicted values and the actual values are almost close, we could see almost a straight line between the predictions and the actual values."
      ],
      "metadata": {
        "id": "FBXEH7pNEJ_6"
      }
    },
    {
      "cell_type": "code",
      "source": [
        "regression_plot_function(final_dataframe)"
      ],
      "metadata": {
        "id": "YQrsQXMmEJ_6"
      },
      "execution_count": null,
      "outputs": []
    },
    {
      "cell_type": "markdown",
      "source": [
        "It is now time to predict the neural network model cross-validation data output values respectively."
      ],
      "metadata": {
        "id": "_D9Q2R3LEJ_6"
      }
    },
    {
      "cell_type": "code",
      "source": [
        "print(\"The mean squared error of neural network model for cross-validation data is {}\".format(mean_squared_error(y_cv_predictions, y_cv)))\n",
        "print(\"The mean absolute error of neural network model for cross-validation data is {}\".format(mean_absolute_error(y_cv_predictions, y_cv)))"
      ],
      "metadata": {
        "id": "ZA21g6F2EJ_6"
      },
      "execution_count": null,
      "outputs": []
    },
    {
      "cell_type": "code",
      "source": [
        "from sklearn.linear_model import LinearRegression"
      ],
      "metadata": {
        "id": "LoFEasp8EJ_6"
      },
      "execution_count": null,
      "outputs": []
    },
    {
      "cell_type": "markdown",
      "source": [
        "## 5.5 Linear Regression Machine Learning Model\n",
        "\n",
        "Implementing the linear regression model to see how it would be able to predict the difficulty of the text respectively. When using this machine learning model, it would predict a line which are the predictions and it would try to take into account all the features that are important for the machine learning analysis."
      ],
      "metadata": {
        "id": "gpyklD62EJ_7"
      }
    },
    {
      "cell_type": "code",
      "source": [
        "model = LinearRegression()\n",
        "model.fit(X_train, y_train)"
      ],
      "metadata": {
        "id": "cd2L1NP8EJ_7"
      },
      "execution_count": null,
      "outputs": []
    },
    {
      "cell_type": "markdown",
      "source": [
        "We are going to be storing the cross-validation predicions of the linear regression machine learning models respectively. "
      ],
      "metadata": {
        "id": "RFmMWReIEJ_7"
      }
    },
    {
      "cell_type": "code",
      "source": [
        "y_cv_predictions = model.predict(X_cv)"
      ],
      "metadata": {
        "id": "iZvFlLVJEJ_7"
      },
      "execution_count": null,
      "outputs": []
    },
    {
      "cell_type": "code",
      "source": [
        "from sklearn.metrics import mean_absolute_error"
      ],
      "metadata": {
        "id": "IC4yrhmaEJ_7"
      },
      "execution_count": null,
      "outputs": []
    },
    {
      "cell_type": "markdown",
      "source": [
        "Since we have loaded the mean_absolute_error library, we are now going to use it to see the mean absolute erro between the cross-validation predictions and the actual predictions as can be seen below. "
      ],
      "metadata": {
        "id": "IgpEDAHhEJ_7"
      }
    },
    {
      "cell_type": "code",
      "source": [
        "mean_absolute_error(y_cv_predictions, y_cv)"
      ],
      "metadata": {
        "id": "uQ9EKHlVEJ_7"
      },
      "execution_count": null,
      "outputs": []
    },
    {
      "cell_type": "markdown",
      "source": [
        "Now is the time to print the cross validation error of the linear regression model. "
      ],
      "metadata": {
        "id": "rN8GMmUAEJ_8"
      }
    },
    {
      "cell_type": "code",
      "source": [
        "print(\"The mean squared error of linear regression model for cross-validation data is {}\".format(mean_squared_error(y_cv_predictions, y_cv)))\n",
        "print(\"The mean absolute error of linear regression modle for cross-validation data is {}\".format(mean_absolute_error(y_cv_predictions, y_cv)))"
      ],
      "metadata": {
        "id": "iDsNWtitEJ_8"
      },
      "execution_count": null,
      "outputs": []
    },
    {
      "cell_type": "markdown",
      "source": [
        "It is now time to create a dataframe based on the predictions and the actual output values so that we might plot various plots to understand how different are our predictions from the actual values respectively. "
      ],
      "metadata": {
        "id": "rVVsqdqcEJ_8"
      }
    },
    {
      "cell_type": "code",
      "source": [
        "first_dataframe = pd.DataFrame(pd.Series(y_cv), columns = ['y_actual'])\n",
        "second_dataframe = pd.DataFrame(pd.Series(y_cv_predictions), columns = ['y_predictions'])"
      ],
      "metadata": {
        "id": "IWgzUH6CEJ_8"
      },
      "execution_count": null,
      "outputs": []
    },
    {
      "cell_type": "markdown",
      "source": [
        "Final dataframe is created where there are predicted values and the actual values."
      ],
      "metadata": {
        "id": "h6Cyj3ZjEJ_8"
      }
    },
    {
      "cell_type": "code",
      "source": [
        "final_dataframe = pd.concat((first_dataframe, second_dataframe), axis = 1)"
      ],
      "metadata": {
        "id": "e4RSzFlDEJ_8"
      },
      "execution_count": null,
      "outputs": []
    },
    {
      "cell_type": "markdown",
      "source": [
        "We are now going to see the head of the dataframe that we have just created to get a sense of the values that we are going to be plotting. "
      ],
      "metadata": {
        "id": "jxXep6VCEJ_8"
      }
    },
    {
      "cell_type": "code",
      "source": [
        "final_dataframe.head()"
      ],
      "metadata": {
        "id": "jzOt397DEJ_9"
      },
      "execution_count": null,
      "outputs": []
    },
    {
      "cell_type": "markdown",
      "source": [
        "regression_plot_function(final_dataframe, color = 'green')"
      ],
      "metadata": {
        "id": "LV_bycUJEJ_9"
      }
    },
    {
      "cell_type": "markdown",
      "source": [
        "## 5.6 K - Neighbors Regressor"
      ],
      "metadata": {
        "id": "8Pwbe_nlEJ_9"
      }
    },
    {
      "cell_type": "code",
      "source": [
        "from sklearn.neighbors import KNeighborsRegressor"
      ],
      "metadata": {
        "id": "4bQsJy23EJ_9"
      },
      "execution_count": null,
      "outputs": []
    },
    {
      "cell_type": "markdown",
      "source": [
        "When we are using the K Neighbors Regressor, it would be taking into account the distance between various points and there are different ways at which the distances could be calculated between the points. One of the most popular way at which the distances between a new point and the existing points are calculated is by using Euclidean Distance. There are other distances such as Hamming distance and Manhattan distance that could also be used for the calculation of the nearest neighbors. Below is the code for using the K Neighbors Regressor. "
      ],
      "metadata": {
        "id": "ZKl1AhwREJ_9"
      }
    },
    {
      "cell_type": "code",
      "source": [
        "model = KNeighborsRegressor(n_neighbors = 2)\n",
        "model.fit(X_train, y_train)\n",
        "y_predict = model.predict(X_cv)"
      ],
      "metadata": {
        "id": "uKkiF-vgEJ_-"
      },
      "execution_count": null,
      "outputs": []
    },
    {
      "cell_type": "markdown",
      "source": [
        "Let us now print the mean absolute error and the mean squared error of the K-nearest neighbor algorithm. "
      ],
      "metadata": {
        "id": "EhR0VF2PEJ_-"
      }
    },
    {
      "cell_type": "code",
      "source": [
        "print(\"The mean squared error of K Neighbors Regressor for cross-validation data is {}\".format(mean_squared_error(y_predict, y_cv)))\n",
        "print(\"The mean absolute error of K Neighbors Regressor for cross-validation data is {}\".format(mean_absolute_error(y_predict, y_cv)))"
      ],
      "metadata": {
        "id": "RS6gx-o8EJ_-"
      },
      "execution_count": null,
      "outputs": []
    },
    {
      "cell_type": "code",
      "source": [
        "y_predict.shape"
      ],
      "metadata": {
        "id": "4ytsUQcGEJ_-"
      },
      "execution_count": null,
      "outputs": []
    },
    {
      "cell_type": "markdown",
      "source": [
        "Creaing a dataframe like we did earlier."
      ],
      "metadata": {
        "id": "AnfgaYquEJ_-"
      }
    },
    {
      "cell_type": "code",
      "source": [
        "first_dataframe = pd.DataFrame(pd.Series(y_cv), columns = ['y_actual'])\n",
        "second_dataframe = pd.DataFrame(pd.Series(y_predict), columns = ['y_predictions'])\n",
        "final_dataframe = pd.concat((first_dataframe, second_dataframe), axis = 1)"
      ],
      "metadata": {
        "id": "avF6zz7lEJ_-"
      },
      "execution_count": null,
      "outputs": []
    },
    {
      "cell_type": "code",
      "source": [
        "final_dataframe.head()"
      ],
      "metadata": {
        "scrolled": true,
        "id": "kfXArMoHEJ_-"
      },
      "execution_count": null,
      "outputs": []
    },
    {
      "cell_type": "markdown",
      "source": [
        "## 5.6.1 Regression Plot between Predicted Values and the Actual Values\n",
        "\n",
        "By observing the regression plot between the values below, we see that the predictions are not very close the actual values. If we were to get the best predictions, we should ideally get a straight dotted line without deviation. Here, the model does perform quite well but not to the point where it could be deployed in the real-world. "
      ],
      "metadata": {
        "id": "ZeFuelQlEJ__"
      }
    },
    {
      "cell_type": "code",
      "source": [
        "regression_plot_function(final_dataframe, color = 'orange')"
      ],
      "metadata": {
        "id": "N04ZKUPeEJ__"
      },
      "execution_count": null,
      "outputs": []
    },
    {
      "cell_type": "markdown",
      "source": [
        "## 5.7 PLS Regression\n",
        "This is a machine learning technique which takes into account the correlation between the features present in our data. Later, it would disregard those features that are highly correlated to each other and consider only features that give are quite different from one another. This is one way of simplifying the problem of regression. "
      ],
      "metadata": {
        "id": "R0JgfH-rEJ__"
      }
    },
    {
      "cell_type": "code",
      "source": [
        "from sklearn.cross_decomposition import PLSRegression"
      ],
      "metadata": {
        "id": "Yp_h9Q8TEJ__"
      },
      "execution_count": null,
      "outputs": []
    },
    {
      "cell_type": "code",
      "source": [
        "model = PLSRegression(n_components = 20)\n",
        "model.fit(X_train, y_train)\n",
        "y_predict = model.predict(X_cv)"
      ],
      "metadata": {
        "id": "s5bv66y_EJ__"
      },
      "execution_count": null,
      "outputs": []
    },
    {
      "cell_type": "markdown",
      "source": [
        "Printing the mean squared error of PLS regressor below."
      ],
      "metadata": {
        "id": "a6XZjIFEEJ__"
      }
    },
    {
      "cell_type": "code",
      "source": [
        "print(\"The mean squared error of PLS Regressor for cross-validation data is {}\".format(mean_squared_error(y_predict, y_cv)))\n",
        "print(\"The mean absolute error of PLS Regressor for cross-validation data is {}\".format(mean_absolute_error(y_predict, y_cv)))"
      ],
      "metadata": {
        "id": "s8N6Lxq8EJ__"
      },
      "execution_count": null,
      "outputs": []
    },
    {
      "cell_type": "code",
      "source": [
        "y_predict = y_predict.flatten()\n",
        "y_predict.shape"
      ],
      "metadata": {
        "id": "906vkRAzEKAA"
      },
      "execution_count": null,
      "outputs": []
    },
    {
      "cell_type": "code",
      "source": [
        "first_dataframe = pd.DataFrame(pd.Series(y_cv), columns = ['y_actual'])\n",
        "second_dataframe = pd.DataFrame(pd.Series(y_predict), columns = ['y_predictions'])\n",
        "final_dataframe = pd.concat((first_dataframe, second_dataframe), axis = 1)"
      ],
      "metadata": {
        "id": "Kkie25L_EKAA"
      },
      "execution_count": null,
      "outputs": []
    },
    {
      "cell_type": "code",
      "source": [
        "final_dataframe.head()"
      ],
      "metadata": {
        "id": "SdUy4dFhEKAA"
      },
      "execution_count": null,
      "outputs": []
    },
    {
      "cell_type": "markdown",
      "source": [
        "## 5.7.1 Regression plot between the Predicted Values and the Actual Values\n",
        "\n",
        "PLS regression is performing quite well compared to that of a Logistic Regression Model. Taking a look at the plot below, one could understand that the predictions and the actual values are quite close to each other. Let us also explore other models before trying to deploy this model in real-time. "
      ],
      "metadata": {
        "id": "Ok-VC6pqEKAA"
      }
    },
    {
      "cell_type": "code",
      "source": [
        "regression_plot_function(final_dataframe, color = 'blue')"
      ],
      "metadata": {
        "id": "Kn8JhCh7EKAA"
      },
      "execution_count": null,
      "outputs": []
    },
    {
      "cell_type": "markdown",
      "source": [
        "## 5.8 Decision Tree Regressor\n",
        "It is now time to use the decision tree regressor that works by dividing the data based on the entropy values respectively. The data is divided based on the information gain that is present for different the data based on different set of features. Once the model knows the features through there would be a gain of maximum information, it would divide the data based on those values. It would do it until it reaches the final node. "
      ],
      "metadata": {
        "id": "HV5i_myWEKAA"
      }
    },
    {
      "cell_type": "code",
      "source": [
        "from sklearn.tree import DecisionTreeRegressor"
      ],
      "metadata": {
        "id": "kDenJIHAEKAA"
      },
      "execution_count": null,
      "outputs": []
    },
    {
      "cell_type": "code",
      "source": [
        "model = DecisionTreeRegressor(splitter = 'random')\n",
        "model.fit(X_train, y_train)\n",
        "y_predict = model.predict(X_cv)"
      ],
      "metadata": {
        "id": "7gutAOPbEKAB"
      },
      "execution_count": null,
      "outputs": []
    },
    {
      "cell_type": "code",
      "source": [
        "print(\"The mean squared error of Decision Tree Regressor for cross-validation data is {}\".format(mean_squared_error(y_predict, y_cv)))\n",
        "print(\"The mean absolute error of Decision Tree Regressor for cross-validation data is {}\".format(mean_absolute_error(y_predict, y_cv)))"
      ],
      "metadata": {
        "id": "3iiQEzS4EKAB"
      },
      "execution_count": null,
      "outputs": []
    },
    {
      "cell_type": "code",
      "source": [
        "y_predict.shape"
      ],
      "metadata": {
        "id": "nGUIxbcDEKAB"
      },
      "execution_count": null,
      "outputs": []
    },
    {
      "cell_type": "code",
      "source": [
        "first_dataframe = pd.DataFrame(pd.Series(y_cv), columns = ['y_actual'])\n",
        "second_dataframe = pd.DataFrame(pd.Series(y_predict), columns = ['y_predictions'])\n",
        "final_dataframe = pd.concat((first_dataframe, second_dataframe), axis = 1)"
      ],
      "metadata": {
        "id": "eUShjONTEKAB"
      },
      "execution_count": null,
      "outputs": []
    },
    {
      "cell_type": "code",
      "source": [
        "final_dataframe.head()"
      ],
      "metadata": {
        "id": "pem0IchpEKAB"
      },
      "execution_count": null,
      "outputs": []
    },
    {
      "cell_type": "markdown",
      "source": [
        "## 5.8.1 Regression plot between the Predicted Values and the Actual Values\n",
        "\n",
        "We can easily see that the decision tree regressor did not do a good job in predicted the difficulty of the text by looking at the plot generated below. There seems to be some kind of linearity but the model cannot be deployed in real-life as the error values for the cross-validation data are high respectively. "
      ],
      "metadata": {
        "id": "kk7ZgeUqEKAB"
      }
    },
    {
      "cell_type": "code",
      "source": [
        "regression_plot_function(final_dataframe, color = 'grey')"
      ],
      "metadata": {
        "id": "4QXGq0DrEKAB"
      },
      "execution_count": null,
      "outputs": []
    },
    {
      "cell_type": "markdown",
      "source": [
        "## 5.9 Gradient Boosting Regressor \n",
        "\n",
        "We are going to be using the gradient boosting decision tree for the prediction of the difficulty of the text respectively. We see that this machine learning model would take into account the errors between the predictions and ensures that those errors are reduced based on the iteration approach. One thing to consider is that parallelization is not possible with this model as a result of which, the present output depends on the previous output values respectively. \n"
      ],
      "metadata": {
        "id": "3kv4sDUuEKAC"
      }
    },
    {
      "cell_type": "code",
      "source": [
        "from sklearn.ensemble import GradientBoostingRegressor"
      ],
      "metadata": {
        "id": "pK9UbLMnEKAC"
      },
      "execution_count": null,
      "outputs": []
    },
    {
      "cell_type": "markdown",
      "source": [
        "We are now going to fit the model and take the predictions from the cross-validation data respectively. "
      ],
      "metadata": {
        "id": "1bJXgRWGEKAC"
      }
    },
    {
      "cell_type": "code",
      "source": [
        "model = GradientBoostingRegressor()\n",
        "model.fit(X_train, y_train)\n",
        "y_predict = model.predict(X_cv)"
      ],
      "metadata": {
        "id": "n903FV7_EKAC"
      },
      "execution_count": null,
      "outputs": []
    },
    {
      "cell_type": "markdown",
      "source": [
        "Let us now print the mean squared error and the mean absolute error of the predictions for the cross-validation data. "
      ],
      "metadata": {
        "id": "N1BbcmqxEKAC"
      }
    },
    {
      "cell_type": "code",
      "source": [
        "print(\"The mean squared error of Gradient Boosting Regressor for cross-validation data is {}\".format(mean_squared_error(y_predict, y_cv)))\n",
        "print(\"The mean absolute error of Gradient Boosting Regressor for cross-validation data is {}\".format(mean_absolute_error(y_predict, y_cv)))"
      ],
      "metadata": {
        "id": "Hrab-IEvEKAC"
      },
      "execution_count": null,
      "outputs": []
    },
    {
      "cell_type": "markdown",
      "source": [
        "Just to understand the data, we'll take the output of the predictions. "
      ],
      "metadata": {
        "id": "DVbZR01uEKAC"
      }
    },
    {
      "cell_type": "code",
      "source": [
        "y_predict.shape"
      ],
      "metadata": {
        "id": "jecmpfi9EKAD"
      },
      "execution_count": null,
      "outputs": []
    },
    {
      "cell_type": "markdown",
      "source": [
        "Creating a dataframe that would take the predictions of the cross-validation data and store those values in a dataframe. "
      ],
      "metadata": {
        "id": "-BElM7NdEKAD"
      }
    },
    {
      "cell_type": "code",
      "source": [
        "first_dataframe = pd.DataFrame(pd.Series(y_cv), columns = ['y_actual'])\n",
        "second_dataframe = pd.DataFrame(pd.Series(y_predict), columns = ['y_predictions'])\n",
        "final_dataframe = pd.concat((first_dataframe, second_dataframe), axis = 1)"
      ],
      "metadata": {
        "id": "oa2StBCQEKAD"
      },
      "execution_count": null,
      "outputs": []
    },
    {
      "cell_type": "markdown",
      "source": [
        "Let us take the head of the dataframe and see how the values are stored in the dataframe that we have just created. "
      ],
      "metadata": {
        "id": "JCJE1b3REKAD"
      }
    },
    {
      "cell_type": "code",
      "source": [
        "final_dataframe.head()"
      ],
      "metadata": {
        "id": "5uyMm6DREKAD"
      },
      "execution_count": null,
      "outputs": []
    },
    {
      "cell_type": "markdown",
      "source": [
        "## 5.9.1 Regression plot between the Predicted Values and the Actual Values\n",
        "Taking a look below, we see that the predictions are much more close to the actual cross-validation output values. This shows the capability of a gradient boosting decision tree where the predictions are significantly better than the other machine learning models. There is a library called 'Xgboost' that makes it really easy to use the gradient boosting decision tree and the computations performed are quite fast respectively. "
      ],
      "metadata": {
        "id": "wXpCMgN5EKAD"
      }
    },
    {
      "cell_type": "code",
      "source": [
        "regression_plot_function(final_dataframe, color = 'maroon')"
      ],
      "metadata": {
        "id": "-VW6AWboEKAD"
      },
      "execution_count": null,
      "outputs": []
    },
    {
      "cell_type": "markdown",
      "source": [
        "## 6.1 Importing Glove Vectors \n",
        "So far, we used the bag of words vectorizer and the Tfidf vectorizer for our machine learning predictions. Now it is time to use the word2vec embeddings and the tfidf word2vec embeddings to make the predictions and see how those predictions would improve the performance of the machine learning models. For word2vec embeddings, we generally consider a 300 dimensional vector for every word. The values for every word are given based on the similarity between a few words that they have considered. \n",
        "\n",
        "One important thing to note is that the semantic meaning of the words is preserved when using the word2vec and average word2vec vectorizers. On the contrary, there is a loss in the semantics when using the bag-of-words vectorizer and Tfidf vectorizer respectively. Therefore, it would be a good idea to use the word2vec for the machine learning analysis.  "
      ],
      "metadata": {
        "id": "6pQDFwu3EKAE"
      }
    },
    {
      "cell_type": "code",
      "source": [
        "import pickle"
      ],
      "metadata": {
        "id": "hHStkPOkEKAE"
      },
      "execution_count": null,
      "outputs": []
    },
    {
      "cell_type": "markdown",
      "source": [
        "The code below was executed before but now just commented as we have already created a pickle file contained the glove vectors which are nothing but the word2vec vectorizers. The code in the below cell could be used just for reference and it could be understood. "
      ],
      "metadata": {
        "id": "M0Au8mJ3EKAE"
      }
    },
    {
      "cell_type": "code",
      "source": [
        "\"\"\"\n",
        "## This code was taken from https://stackoverflow.com/a/38230349/4084039\n",
        "## Feel free to go to the above article to understand how to retrieve glove vectors and store them in pickle files\n",
        "def glove_vectors(glovefile):\n",
        "    print(\"Loading the glove file\")\n",
        "    f = open(glovefile, 'r', encoding = 'utf8')\n",
        "    embeddings_dictionary = {}\n",
        "    for line in tqdm(f):\n",
        "        values_list = line.split(' ')\n",
        "        word = values_list[0]\n",
        "        word_vector = np.asarray(values_list[1: ], \"float32\")\n",
        "        embeddings_dictionary[word] = word_vector\n",
        "    return embeddings_dictionary \n",
        "\n",
        "model = glove_vectors('glove.840B.300d.txt')\n",
        "\n",
        "words = []\n",
        "for i in preprocessed_text:\n",
        "    words.extend(i.split(' '))\n",
        "print(\"The list of all the words that are present in our data is {}\".format(len(words)))\n",
        "unique_words = set(words)\n",
        "print(\"The list of unique words that are present in our data is {}\".format(len(unique_words)))\n",
        "\n",
        "intersection_words = set(model.keys()).intersection(unique_words)\n",
        "print(\"The total number of glove words that are present in our preprocessed text is: {}\".format(len(intersection_words)))\n",
        "print(\"The percentage of glove words that are present in our preprocessed text is: {} %\".format(np.round(len(intersection_words)/len(unique_words) * 100, 3)))\n",
        "\n",
        "word_corpus = {}\n",
        "words_glove = set(model.keys())\n",
        "for i in words:\n",
        "    if i in words_glove:\n",
        "        word_corpus[i] = model[i]\n",
        "print(\"Word to vec length is {}\".format(len(word_corpus)))\n",
        "\n",
        "with open('glove_vectors', 'wb') as f:\n",
        "    pickle.dump(word_corpus, f)\n",
        "\"\"\""
      ],
      "metadata": {
        "id": "ImiYsqhWEKAE"
      },
      "execution_count": null,
      "outputs": []
    },
    {
      "cell_type": "markdown",
      "source": [
        "Printing the total number of words that are present in our data along with the number of glove vectors. We see that there are significant number of glove words in our corpus. Therefore, we would just replace all the words in our corpus with glove vectors and discard the remaining words that are in our corpus but not in our glove vectors. "
      ],
      "metadata": {
        "id": "56Cw_5x1EKAE"
      }
    },
    {
      "cell_type": "code",
      "source": [
        "print(\"The list of all the words that are present in our data is 495400\\nThe list of unique words that are present in our data is 22700\\nThe total number of glove words that are present in our preprocessed text is: 21393\\nThe percentage of glove words that are present in our preprocessed text is: 94.242 %\\nWord2Vec length is 21393\")"
      ],
      "metadata": {
        "id": "FM4TFwZWEKAE"
      },
      "execution_count": null,
      "outputs": []
    },
    {
      "cell_type": "markdown",
      "source": [
        "It is now time to read the pickle file that we have just created in the above commented cell. We'll store those values in glove_vectors variable. "
      ],
      "metadata": {
        "id": "fgcZwp6HEKAE"
      }
    },
    {
      "cell_type": "code",
      "source": [
        "# stronging variables into pickle files python: http://www.jessicayung.com/how-to-use-pickle-to-save-and-load-variables-in-python/\n",
        "# make sure you have the glove_vectors file\n",
        "with open('glove_vectors', 'rb') as f:\n",
        "    glove_vectors = pickle.load(f)\n",
        "    glove_words =  set(glove_vectors.keys())"
      ],
      "metadata": {
        "id": "UTNi_vtcEKAF"
      },
      "execution_count": null,
      "outputs": []
    },
    {
      "cell_type": "markdown",
      "source": [
        "We are going to be using the word2vec respesentation and convert our preprocessed text values respectively. We are going to store those values in a list and display them along with checking their length. "
      ],
      "metadata": {
        "id": "xfuNi8msEKAF"
      }
    },
    {
      "cell_type": "code",
      "source": [
        "# average Word2Vec\n",
        "# compute average word2vec for each review.\n",
        "avg_w2v_vectors = []; # the avg-w2v for each sentence/review is stored in this list\n",
        "for sentence in tqdm(preprocessed_text): # for each review/sentence\n",
        "    vector = np.zeros(300) # as word vectors are of zero length\n",
        "    cnt_words =0; # num of words with a valid vector in the sentence/review\n",
        "    for word in sentence.split(): # for each word in a review/sentence\n",
        "        if word in glove_words:\n",
        "            vector += glove_vectors[word]\n",
        "            cnt_words += 1\n",
        "    if cnt_words != 0:\n",
        "        vector /= cnt_words\n",
        "    avg_w2v_vectors.append(vector)\n",
        "\n",
        "print(len(avg_w2v_vectors))\n",
        "print(len(avg_w2v_vectors[0]))"
      ],
      "metadata": {
        "id": "hQ45Axd6EKAF"
      },
      "execution_count": null,
      "outputs": []
    },
    {
      "cell_type": "markdown",
      "source": [
        "We are now going to perform the same operation on the test set and see how well the model would be performing respectively. "
      ],
      "metadata": {
        "id": "aEjySCEPEKAF"
      }
    },
    {
      "cell_type": "code",
      "source": [
        "# average Word2Vec\n",
        "# compute average word2vec for each review.\n",
        "avg_w2v_vectors_test = []; # the avg-w2v for each sentence/review is stored in this list\n",
        "for sentence in tqdm(preprocessed_text_test): # for each review/sentence\n",
        "    vector = np.zeros(300) # as word vectors are of zero length\n",
        "    cnt_words =0; # num of words with a valid vector in the sentence/review\n",
        "    for word in sentence.split(): # for each word in a review/sentence\n",
        "        if word in glove_words:\n",
        "            vector += glove_vectors[word]\n",
        "            cnt_words += 1\n",
        "    if cnt_words != 0:\n",
        "        vector /= cnt_words\n",
        "    avg_w2v_vectors_test.append(vector)\n",
        "\n",
        "print(len(avg_w2v_vectors_test))\n",
        "print(len(avg_w2v_vectors_test[0]))"
      ],
      "metadata": {
        "id": "ibBPVT1DEKAF"
      },
      "execution_count": null,
      "outputs": []
    },
    {
      "cell_type": "markdown",
      "source": [
        "We are going to stack those vectors together and make a final vector that could be used for dividing the values between the training and the test set. "
      ],
      "metadata": {
        "id": "97kSb4qTEKAF"
      }
    },
    {
      "cell_type": "code",
      "source": [
        "X = np.hstack((avg_w2v_vectors, df_scaled))\n",
        "X_test = np.hstack((avg_w2v_vectors_test, df_scaled_test))\n",
        "y = df_train['target'].values"
      ],
      "metadata": {
        "id": "splyTwy6EKAG"
      },
      "execution_count": null,
      "outputs": []
    },
    {
      "cell_type": "markdown",
      "source": [
        "train_test_split would split the values based on the test_size parameter that is taken along with random_state parameter. These would determine the split of the training and the test size. "
      ],
      "metadata": {
        "id": "YmZfC0XDEKAG"
      }
    },
    {
      "cell_type": "code",
      "source": [
        "X_train, X_cv, y_train, y_cv = train_test_split(X, y, test_size = 0.3, random_state = 50)"
      ],
      "metadata": {
        "id": "VIl4tHZiEKAG"
      },
      "execution_count": null,
      "outputs": []
    },
    {
      "cell_type": "markdown",
      "source": [
        "## 6.2 Neural Network with Word2Vec\n",
        "\n",
        "Using the same network architecture that we have created earlier, we are now going to train the deep neural network and evaluate the performance. We give the same set of parameters along with only altering the input shape as this shape is different from the ones that we have given earlier. Verbose is set to 0 as we do not want those values to be displayed here. Rather, we are going to plot those values in the next cells and evaluate the performance respectively. "
      ],
      "metadata": {
        "id": "r7ZZkkUREKAG"
      }
    },
    {
      "cell_type": "code",
      "source": [
        "model = neural_network(X_train = X_train, y_train = y_train, Validation_data = (X_cv, y_cv), input_shape = (316, ), epochs = 40, verbose = 0)"
      ],
      "metadata": {
        "id": "dEI9PNeJEKAG"
      },
      "execution_count": null,
      "outputs": []
    },
    {
      "cell_type": "markdown",
      "source": [
        "## 6.3 Defining the lineplot_neural_network function \n",
        "\n",
        "With the aid of this function, the training and the cross-validation mean_squared error would be plotted with different epochs. We can get to know the overall performance of the machine learning or deep learning model and this also helps us know whether the model is overfitting or underfitting respectively. "
      ],
      "metadata": {
        "id": "CCKReXjjEKAG"
      }
    },
    {
      "cell_type": "code",
      "source": [
        "def lineplot_neural_network(model, figsize = (10, 10)):\n",
        "    y1 = model.history.history['mean_squared_error']\n",
        "    y2 = model.history.history['val_mean_squared_error']\n",
        "    plt.figure(figsize = figsize)\n",
        "    plt.plot(y1, label = 'training error')\n",
        "    plt.plot(y2, label = 'cross-validation error')\n",
        "    plt.xlabel('Epochs')\n",
        "    plt.ylabel('Mean Square Error')\n",
        "    plt.title(\"Lineplot between Mean Squared Error and Epochs\")\n",
        "    plt.legend()\n",
        "    plt.show()   "
      ],
      "metadata": {
        "id": "9o_RQs_5EKAG"
      },
      "execution_count": null,
      "outputs": []
    },
    {
      "cell_type": "markdown",
      "source": [
        "When looking at the plot below, we can say that the model is overfitting. This is because with the increase in the epochs, the training mean_square_error is decreasing while the cross-validation mean_square error is increasing. \n",
        "One more thing to observe is at epoch 5, there is a decrease in the training error and increase in cross-validation error respectively. "
      ],
      "metadata": {
        "id": "mTbziuneEKAG"
      }
    },
    {
      "cell_type": "code",
      "source": [
        "lineplot_neural_network(model)"
      ],
      "metadata": {
        "id": "E_XNqqaFEKAH"
      },
      "execution_count": null,
      "outputs": []
    },
    {
      "cell_type": "markdown",
      "source": [
        "## 6.4 Gradient Boosting Decision Tree for Average Word2Vec\n",
        "Let us now consider the average word2vec and consider the gradient boosting decision tree to make our predictions respectively. Since it is one of the strong machine learning models with good outcomes, we are only using this machine learning model to make the predictions respectively. "
      ],
      "metadata": {
        "id": "8ZTV5FiXEKAH"
      }
    },
    {
      "cell_type": "code",
      "source": [
        "model = GradientBoostingRegressor()\n",
        "model.fit(X_train, y_train)\n",
        "y_predict = model.predict(X_cv)"
      ],
      "metadata": {
        "id": "PffKbtcTEKAH"
      },
      "execution_count": null,
      "outputs": []
    },
    {
      "cell_type": "markdown",
      "source": [
        "Printing the mean squared error of the gradient boosting regressor for the cross-validation data."
      ],
      "metadata": {
        "id": "iHfKZ-iiEKAH"
      }
    },
    {
      "cell_type": "code",
      "source": [
        "print(\"The mean squared error of Gradient Boosting Regressor for cross-validation data is {}\".format(mean_squared_error(y_predict, y_cv)))\n",
        "print(\"The mean absolute error of Gradient Boosting Regressor for cross-validation data is {}\".format(mean_absolute_error(y_predict, y_cv)))"
      ],
      "metadata": {
        "id": "NYxatc5KEKAH"
      },
      "execution_count": null,
      "outputs": []
    },
    {
      "cell_type": "markdown",
      "source": [
        "## 6.5 Tfidf Word2Vec Featurization\n",
        "So far, word2vec was used for the predictions using the neural network and the gradient boosting decision tree. Now, let us also use the tfidf vecorizer along with word2vec so that we get the best predictions on the overall cross-validation data respectively. \n",
        "In the Tfidf Vectorizer along with word2vec, the values that are taken as the final word are 300 dimensional along with tfidf product that is take as result rather than taking the average. Let us see how the performance of the machine learning model would improve overall. "
      ],
      "metadata": {
        "id": "vy9oWmAVEKAH"
      }
    },
    {
      "cell_type": "code",
      "source": [
        "# S = [\"abc def pqr\", \"def def def abc\", \"pqr pqr def\"]\n",
        "tfidf_model = TfidfVectorizer()\n",
        "tfidf_model.fit(preprocessed_text)\n",
        "# we are converting a dictionary with word as a key, and the idf as a value\n",
        "dictionary = dict(zip(tfidf_model.get_feature_names(), list(tfidf_model.idf_)))\n",
        "tfidf_words = set(tfidf_model.get_feature_names())"
      ],
      "metadata": {
        "id": "6UMB1NSsEKAH"
      },
      "execution_count": null,
      "outputs": []
    },
    {
      "cell_type": "markdown",
      "source": [
        "Taking into consideration the tfidf_w2v_train values, we are going to create a list of all the output values of the tfidf word2vec vectorizer. "
      ],
      "metadata": {
        "id": "tyHeAdpOEKAI"
      }
    },
    {
      "cell_type": "code",
      "source": [
        "tfidf_w2v_train = [];\n",
        "for sentence in tqdm(preprocessed_text):\n",
        "    vector = np.zeros(300)\n",
        "    tf_idf_weight = 0;\n",
        "    for word in sentence.split():\n",
        "        if (word in glove_words) and (word in tfidf_words):\n",
        "            vec = glove_vectors[word]\n",
        "            tf_idf = dictionary[word]*(sentence.count(word)/len(sentence.split()))\n",
        "            vector += (vec*tf_idf)\n",
        "            tf_idf_weight += tf_idf\n",
        "    if tf_idf_weight != 0:\n",
        "        vector /= tf_idf_weight\n",
        "    tfidf_w2v_train.append(vector)\n",
        "print(len(tfidf_w2v_train))\n",
        "print(len(tfidf_w2v_train[0]))"
      ],
      "metadata": {
        "id": "AAOHRBzwEKAI"
      },
      "execution_count": null,
      "outputs": []
    },
    {
      "cell_type": "markdown",
      "source": [
        "Similarly, we are going to perform the same operation on the test set respectively. "
      ],
      "metadata": {
        "id": "aiKgGLDQEKAI"
      }
    },
    {
      "cell_type": "code",
      "source": [
        "tfidf_w2v_train[0][0: 5]"
      ],
      "metadata": {
        "id": "vFISsqWhEKAI"
      },
      "execution_count": null,
      "outputs": []
    },
    {
      "cell_type": "code",
      "source": [
        "len(tfidf_w2v_train)"
      ],
      "metadata": {
        "id": "I6jwpdjdEKAI"
      },
      "execution_count": null,
      "outputs": []
    },
    {
      "cell_type": "code",
      "source": [
        "tfidf_w2v_test = [];\n",
        "for sentence in tqdm(preprocessed_text_test):\n",
        "    vector = np.zeros(300)\n",
        "    tf_idf_weight = 0;\n",
        "    for word in sentence.split():\n",
        "        if (word in glove_words) and (word in tfidf_words):\n",
        "            vec = glove_vectors[word]\n",
        "            tf_idf = dictionary[word]*(sentence.count(word)/len(sentence.split()))\n",
        "            vector += (vec*tf_idf)\n",
        "            tf_idf_weight += tf_idf\n",
        "    if tf_idf_weight != 0:\n",
        "        vector /= tf_idf_weight\n",
        "    tfidf_w2v_test.append(vector)\n",
        "print(len(tfidf_w2v_test))\n",
        "print(len(tfidf_w2v_test[0]))"
      ],
      "metadata": {
        "id": "ZPRUGp8bEKAI"
      },
      "execution_count": null,
      "outputs": []
    },
    {
      "cell_type": "markdown",
      "source": [
        "Now it is time to stack those values together and get the predictions using different machine learning models."
      ],
      "metadata": {
        "id": "NZH1CAzWEKAJ"
      }
    },
    {
      "cell_type": "code",
      "source": [
        "X = np.hstack((tfidf_w2v_train, df_scaled))\n",
        "X_test = np.hstack((tfidf_w2v_test, df_scaled_test))\n",
        "y = df_train['target'].values"
      ],
      "metadata": {
        "id": "uaDeuZHLEKAJ"
      },
      "execution_count": null,
      "outputs": []
    },
    {
      "cell_type": "markdown",
      "source": [
        "## 6.6 Neural Network with Tfidf Word2Vec \n",
        "Now it is time to use the tfidf word2vec vectorizer and check the values and how they would influence the outcome of the predictions. Below, we are also going to plot a graph to understand the training and the cross validation error respectively. The situation is quite similar to the one that we did with average word2vec. As the epochs increase, there is a higher chance for the neural network to overfit. Therefore, we have to ensure that the model does not overfit the data, and our model must be able to generalize on different datasets respectively. "
      ],
      "metadata": {
        "id": "mU5GnPYLEKAJ"
      }
    },
    {
      "cell_type": "code",
      "source": [
        "model = neural_network(X_train = X_train, y_train = y_train, Validation_data = (X_cv, y_cv), input_shape = (316,), epochs = 40, verbose = 0)"
      ],
      "metadata": {
        "id": "HvnWjB0pEKAJ"
      },
      "execution_count": null,
      "outputs": []
    },
    {
      "cell_type": "code",
      "source": [
        "lineplot_neural_network(model)"
      ],
      "metadata": {
        "id": "e08NZEOEEKAJ"
      },
      "execution_count": null,
      "outputs": []
    },
    {
      "cell_type": "markdown",
      "source": [
        "We have finalized our neural network model to just 10 epochs and we see a significant increase in the performance of the machine learning model respectively. We see that validation mean square error is also decreasing with the decrease in the training error respectively. This shows us that the model is not overfitting and is performing well on the validation set respectively. We would finalize this model and take the Tfidf Word2Vec Vectorizer as features. "
      ],
      "metadata": {
        "id": "Wqjvx9AwEKAJ"
      }
    },
    {
      "cell_type": "code",
      "source": [
        "model = neural_network(X_train = X_train, y_train = y_train, Validation_data = (X_cv, y_cv), input_shape = (316,), epochs = 10, verbose = 1)"
      ],
      "metadata": {
        "id": "6F85gdSWEKAJ"
      },
      "execution_count": null,
      "outputs": []
    },
    {
      "cell_type": "code",
      "source": [
        "y_predict = model.predict(X_cv)\n",
        "y_predict = y_predict.flatten()"
      ],
      "metadata": {
        "id": "JnGHlqIoEKAK"
      },
      "execution_count": null,
      "outputs": []
    },
    {
      "cell_type": "code",
      "source": [
        "first_dataframe = pd.DataFrame(pd.Series(y_cv), columns = ['y_actual'])\n",
        "second_dataframe = pd.DataFrame(pd.Series(y_predict), columns = ['y_predictions'])\n",
        "final_dataframe = pd.concat((first_dataframe, second_dataframe), axis = 1)"
      ],
      "metadata": {
        "id": "GkpBhPnIEKAK"
      },
      "execution_count": null,
      "outputs": []
    },
    {
      "cell_type": "markdown",
      "source": [
        "Now, we are going to create a dataframe that would have predictions and the actual values as the output respectively. We are going to give this to our machine learning model for predictions for the test set respectively. "
      ],
      "metadata": {
        "id": "LTtlRepLEKAK"
      }
    },
    {
      "cell_type": "code",
      "source": [
        "final_dataframe"
      ],
      "metadata": {
        "id": "5Mvq2xf6EKAK"
      },
      "execution_count": null,
      "outputs": []
    },
    {
      "cell_type": "markdown",
      "source": [
        "## 6.7 Regression plot between the Predicted Values and the Actual Values\n",
        "\n",
        "We are taking the regression plot between the predicted values and the actual values and we are going to be plotting to check the spread of the values respectively. Taking a look at the plot below, we can easily understand that the neural network model is performing well for the data where the features are the Tfidf Word2Vec vectors along with a few vectors that we have earlier considered. This shows that in our case, the Tfidf Word2Vec Vectorization is one of the best things to do to improve the overall performance of the machine learning and deep learning models respectively. "
      ],
      "metadata": {
        "id": "9ZGNlnKlEKAK"
      }
    },
    {
      "cell_type": "code",
      "source": [
        "regression_plot_function(final_dataframe, color = 'brown')"
      ],
      "metadata": {
        "id": "tHHXiY2LEKAK"
      },
      "execution_count": null,
      "outputs": []
    },
    {
      "cell_type": "markdown",
      "source": [
        "# 7. Conclusion\n",
        "All-in-all, we learned a lot during the processing of creating and implementing this project. Below are some important distinctions. \n",
        "1. From the notebook, we have seen that creating new features actually improves the machine learning predictions and reduces the mean squared error (MSE) and mean absolute error (MAE) respectively. \n",
        "2. One of the most distinctive steps that we have taken in the project is to use word embeddings of our text. It it known that word embeddings preserve the semantic meaning of the text along with generating new mathematical vectors. The performance of the deep learning model has improved signficantly with this approach. \n",
        "3. The machine learning models that performed the best in this project is Gradient Boosting Decision Tree. Although there are other libraries such as Xgboost, we just used the Gradient Boosting Decision Tree (GBDT) for simplicity of the project. \n",
        "4. We finally see that the results generated were not very far away from the actual values in the cross-validation data. Therefore, we have to perform the same set of steps that we have performed on the test set and then use the latest machine learning model to generate real-time predictions. \n"
      ],
      "metadata": {
        "id": "b3TfcmAnEKAK"
      }
    },
    {
      "cell_type": "code",
      "source": [
        ""
      ],
      "metadata": {
        "id": "_Iez0TyOEKAL"
      },
      "execution_count": null,
      "outputs": []
    }
  ]
}